{
 "cells": [
  {
   "cell_type": "code",
   "execution_count": null,
   "metadata": {},
   "outputs": [],
   "source": [
    "from sklearn.datasets import fetch_openml\n",
    "\n",
    "mnist = fetch_openml('mnist_784')"
   ]
  },
  {
   "cell_type": "code",
   "execution_count": null,
   "metadata": {},
   "outputs": [],
   "source": [
    "import time\n",
    "import matplotlib.pyplot as plt\n",
    "\n",
    "learning_times_kernel = {}\n",
    "learning_times_c = {}\n",
    "learning_times_gamma = {}"
   ]
  },
  {
   "cell_type": "code",
   "execution_count": null,
   "metadata": {},
   "outputs": [],
   "source": [
    "import numpy as np\n",
    "\n",
    "indexes = np.random.randint(70000, size=7000)\n",
    "\n",
    "xtrain = mnist.data[indexes][:4900]\n",
    "xtest = mnist.data[indexes][4900:]\n",
    "\n",
    "ytrain = mnist.target[indexes][:4900]\n",
    "ytest = mnist.target[indexes][4900:]\n",
    "\n",
    "# xtrain = mnist.data[:49000]\n",
    "# xtest = mnist.data[49000:]\n",
    "\n",
    "# ytrain = mnist.target[:49000]\n",
    "# ytest = mnist.target[49000:]"
   ]
  },
  {
   "cell_type": "code",
   "execution_count": null,
   "metadata": {},
   "outputs": [],
   "source": [
    "from sklearn.svm import SVC\n",
    "\n",
    "clf = SVC(kernel=\"linear\", gamma=\"auto\")\n",
    "\n",
    "clf.fit(xtrain, ytrain)\n",
    "\n",
    "found_classes = clf.predict(xtest)\n",
    "\n",
    "for itest in range(1,20):\n",
    "    #itest = 4\n",
    "    \n",
    "    res =  \" OK\" if ytest[itest] == found_classes[itest] else \"\"\n",
    "\n",
    "    print(\"Classe : \" + ytest[itest] + \" / Attendu \" + found_classes[itest] + res)\n",
    "\n"
   ]
  },
  {
   "cell_type": "code",
   "execution_count": null,
   "metadata": {},
   "outputs": [],
   "source": [
    "scores_kernel_test = []\n",
    "scores_kernel_train = []\n",
    "\n",
    "# \"precomputed\" ne fonctionne pas avec ce jeu de données\n",
    "kernels = [\"linear\", \"poly\", \"rbf\", \"sigmoid\"]\n",
    "\n",
    "for kernel in kernels:\n",
    "    clf = SVC(kernel=kernel, gamma=\"auto\")\n",
    "\n",
    "    start_time = time.process_time()\n",
    "    clf.fit(xtrain, ytrain)\n",
    "    exec_time = time.process_time() - start_time\n",
    "    learning_times_kernel[kernel] = exec_time\n",
    "\n",
    "    score_test = clf.score(xtest, ytest)\n",
    "    scores_kernel_test.append(score_test)\n",
    "    \n",
    "    score_train = clf.score(xtrain, ytrain)\n",
    "    scores_kernel_train.append(score_train)\n",
    "    \n",
    "    print(\"Kernel : \" + str(kernel) + \" -> \" + str(score_test))\n",
    "    print(\"Kernel : \" + str(kernel) + \" -> \" + str(score_train))\n",
    "\n",
    "print(learning_times_kernel)"
   ]
  },
  {
   "cell_type": "code",
   "execution_count": null,
   "metadata": {},
   "outputs": [],
   "source": [
    "lists = sorted(learning_times_kernel.items())\n",
    "print(lists)\n",
    "\n",
    "x, y = zip(*lists)\n",
    "\n",
    "plt.plot(x, y)\n",
    "plt.legend(['Temps d\\'exécution'], loc='best')\n",
    "plt.xlabel(\"Kernels\")\n",
    "plt.ylabel(\"Temps d'exécution (s)\")\n",
    "plt.title(\"Temps d'exécution pour différents kernels\")"
   ]
  },
  {
   "cell_type": "code",
   "execution_count": null,
   "metadata": {},
   "outputs": [],
   "source": [
    "import numpy as np\n",
    "\n",
    "scores_c_test = []\n",
    "scores_c_train = []\n",
    "\n",
    "Cs = np.linspace(0.1, 1, 5)\n",
    "\n",
    "for C in Cs:\n",
    "    clf = SVC(kernel=\"poly\", gamma=\"auto\", C=C)\n",
    "    clf.fit(xtrain, ytrain)\n",
    "\n",
    "    score_test = clf.score(xtest, ytest)\n",
    "    scores_c_test.append(score_test)\n",
    "    \n",
    "    score_train = clf.score(xtrain, ytrain)\n",
    "    scores_c_train.append(score_train)\n",
    "    \n",
    "    print(\"C : \" + str(C) + \" -> \" + str(score_test))\n",
    "    print(\"C : \" + str(C) + \" -> \" + str(score_train))\n",
    "\n",
    "    "
   ]
  },
  {
   "cell_type": "code",
   "execution_count": null,
   "metadata": {},
   "outputs": [],
   "source": [
    "import matplotlib.pyplot as plt\n",
    "\n",
    "plt.plot([x for x in Cs], scores_c_test)\n",
    "plt.plot([x for x in Cs], scores_c_train)\n",
    "\n",
    "plt.legend(['Precision test', 'Precision train'], loc='best')\n",
    "plt.xlabel(\"C\")\n",
    "plt.ylabel(\"Precision\")\n",
    "plt.title(\"Score pour différents C\")"
   ]
  },
  {
   "cell_type": "code",
   "execution_count": null,
   "metadata": {},
   "outputs": [],
   "source": [
    "from sklearn.metrics import confusion_matrix\n",
    "\n",
    "clf = SVC(kernel=\"poly\", gamma=\"auto\")\n",
    "\n",
    "clf.fit(xtrain, ytrain)\n",
    "\n",
    "found_classes = clf.predict(xtest)\n",
    "\n",
    "cm = confusion_matrix(ytest, found_classes)\n",
    "\n",
    "print(cm)"
   ]
  }
 ],
 "metadata": {
  "kernelspec": {
   "display_name": "Python 3",
   "language": "python",
   "name": "python3"
  },
  "language_info": {
   "codemirror_mode": {
    "name": "ipython",
    "version": 3
   },
   "file_extension": ".py",
   "mimetype": "text/x-python",
   "name": "python",
   "nbconvert_exporter": "python",
   "pygments_lexer": "ipython3",
   "version": "3.7.4"
  },
  "latex_envs": {
   "LaTeX_envs_menu_present": true,
   "autoclose": false,
   "autocomplete": true,
   "bibliofile": "biblio.bib",
   "cite_by": "apalike",
   "current_citInitial": 1,
   "eqLabelWithNumbers": true,
   "eqNumInitial": 1,
   "hotkeys": {
    "equation": "Ctrl-E",
    "itemize": "Ctrl-I"
   },
   "labels_anchors": false,
   "latex_user_defs": false,
   "report_style_numbering": false,
   "user_envs_cfg": false
  }
 },
 "nbformat": 4,
 "nbformat_minor": 2
}
