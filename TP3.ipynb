{
 "cells": [
  {
   "cell_type": "code",
   "execution_count": 1,
   "metadata": {},
   "outputs": [],
   "source": [
    "from sklearn.datasets import fetch_openml\n",
    "\n",
    "mnist = fetch_openml('mnist_784')"
   ]
  },
  {
   "cell_type": "code",
   "execution_count": 2,
   "metadata": {},
   "outputs": [],
   "source": [
    "import time\n",
    "import matplotlib.pyplot as plt\n",
    "\n",
    "learning_times_kernel = {}\n",
    "learning_times_c = {}\n",
    "learning_times_gamma = {}"
   ]
  },
  {
   "cell_type": "code",
   "execution_count": 3,
   "metadata": {},
   "outputs": [],
   "source": [
    "import numpy as np\n",
    "\n",
    "indexes = np.random.randint(70000, size=7000)\n",
    "\n",
    "xtrain = mnist.data[indexes][:4900]\n",
    "xtest = mnist.data[indexes][4900:]\n",
    "\n",
    "ytrain = mnist.target[indexes][:4900]\n",
    "ytest = mnist.target[indexes][4900:]\n",
    "\n",
    "# xtrain = mnist.data[:49000]\n",
    "# xtest = mnist.data[49000:]\n",
    "\n",
    "# ytrain = mnist.target[:49000]\n",
    "# ytest = mnist.target[49000:]"
   ]
  },
  {
   "cell_type": "code",
   "execution_count": 4,
   "metadata": {},
   "outputs": [
    {
     "name": "stdout",
     "output_type": "stream",
     "text": [
      "Score train : 1.0\n",
      "Score test : 0.9128571428571428\n",
      "Classe : 6 / Attendu 6 OK\n",
      "Classe : 7 / Attendu 4\n",
      "Classe : 0 / Attendu 0 OK\n",
      "Classe : 0 / Attendu 0 OK\n",
      "Classe : 1 / Attendu 1 OK\n",
      "Classe : 3 / Attendu 3 OK\n",
      "Classe : 2 / Attendu 2 OK\n",
      "Classe : 9 / Attendu 4\n",
      "Classe : 9 / Attendu 9 OK\n",
      "Classe : 0 / Attendu 0 OK\n",
      "Classe : 5 / Attendu 5 OK\n",
      "Classe : 7 / Attendu 7 OK\n",
      "Classe : 8 / Attendu 8 OK\n",
      "Classe : 7 / Attendu 7 OK\n",
      "Classe : 8 / Attendu 8 OK\n",
      "Classe : 7 / Attendu 2\n",
      "Classe : 9 / Attendu 9 OK\n",
      "Classe : 4 / Attendu 4 OK\n",
      "Classe : 4 / Attendu 9\n"
     ]
    }
   ],
   "source": [
    "from sklearn.svm import SVC\n",
    "\n",
    "clf = SVC(kernel=\"linear\", gamma=\"auto\")\n",
    "\n",
    "clf.fit(xtrain, ytrain)\n",
    "\n",
    "found_classes = clf.predict(xtest)\n",
    "\n",
    "print(\"Score train : \" + str(clf.score(xtrain, ytrain)))\n",
    "print(\"Score test : \" + str(clf.score(xtest, ytest)))\n",
    "\n",
    "for itest in range(1,20):\n",
    "    #itest = 4\n",
    "    \n",
    "    res =  \" OK\" if ytest[itest] == found_classes[itest] else \"\"\n",
    "\n",
    "    print(\"Classe : \" + ytest[itest] + \" / Attendu \" + found_classes[itest] + res)\n",
    "\n"
   ]
  },
  {
   "cell_type": "code",
   "execution_count": 5,
   "metadata": {},
   "outputs": [
    {
     "name": "stdout",
     "output_type": "stream",
     "text": [
      "Kernel (score test) : linear -> 0.9128571428571428\n",
      "Kernel (score_train): linear -> 1.0\n",
      "Kernel (score test) : poly -> 0.95\n",
      "Kernel (score_train): poly -> 1.0\n",
      "Kernel (score test) : rbf -> 0.15904761904761905\n",
      "Kernel (score_train): rbf -> 1.0\n",
      "Kernel (score test) : sigmoid -> 0.11333333333333333\n",
      "Kernel (score_train): sigmoid -> 0.11122448979591837\n"
     ]
    }
   ],
   "source": [
    "from sklearn.metrics import zero_one_loss\n",
    "\n",
    "\n",
    "\n",
    "scores_kernel_test = []\n",
    "scores_kernel_train = []\n",
    "times = []\n",
    "erreurs = []\n",
    "\n",
    "# \"precomputed\" ne fonctionne pas avec ce jeu de données\n",
    "kernels = [\"linear\", \"poly\", \"rbf\", \"sigmoid\"]\n",
    "\n",
    "for kernel in kernels:\n",
    "    clf = SVC(kernel=kernel, gamma=\"auto\")\n",
    "\n",
    "    start_time = time.process_time()\n",
    "    clf.fit(xtrain, ytrain)\n",
    "    exec_time = time.process_time() - start_time\n",
    "    times.append(exec_time)\n",
    "\n",
    "    score_test = clf.score(xtest, ytest)\n",
    "    scores_kernel_test.append(score_test)\n",
    "    \n",
    "    score_train = clf.score(xtrain, ytrain)\n",
    "    scores_kernel_train.append(score_train)\n",
    "    \n",
    "    ypredict = clf.predict(xtest)\n",
    "    erreurs.append(zero_one_loss(ytest, ypredict))\n",
    "    \n",
    "    print(\"Kernel (score test) : \" + str(kernel) + \" -> \" + str(score_test))\n",
    "    print(\"Kernel (score_train): \" + str(kernel) + \" -> \" + str(score_train))\n"
   ]
  },
  {
   "cell_type": "code",
   "execution_count": 6,
   "metadata": {},
   "outputs": [
    {
     "data": {
      "text/plain": [
       "<matplotlib.legend.Legend at 0x7fcdb29aeb00>"
      ]
     },
     "execution_count": 6,
     "metadata": {},
     "output_type": "execute_result"
    },
    {
     "data": {
      "image/png": "[encoded data removed]",
      "text/plain": [
       "<Figure size 432x288 with 1 Axes>"
      ]
     },
     "metadata": {
      "needs_background": "light"
     },
     "output_type": "display_data"
    }
   ],
   "source": [
    "import numpy as np\n",
    "\n",
    "    \n",
    "N = 4\n",
    "\n",
    "\n",
    "ind = np.arange(N) \n",
    "width = 0.25       \n",
    "plt.bar(ind, scores_kernel_test, width, label=\"Score test\")\n",
    "plt.bar(ind + width, scores_kernel_train, width, label=\"Score train\")\n",
    "plt.bar(ind + width * 2, erreurs, width, label=\"Erreur train\")\n",
    "\n",
    "plt.xlabel(\"Noyau utilisé\")\n",
    "plt.ylabel(\"Score\")\n",
    "plt.title(\"Précision et erreur pour différents noyaux utilisés\")\n",
    "plt.xticks(ind + width, ('linear', 'poly', 'rbf', 'sigmoid'))\n",
    "plt.legend(loc='best')"
   ]
  },
  {
   "cell_type": "code",
   "execution_count": 7,
   "metadata": {},
   "outputs": [
    {
     "name": "stderr",
     "output_type": "stream",
     "text": [
      "No handles with labels found to put in legend.\n"
     ]
    },
    {
     "data": {
      "text/plain": [
       "<matplotlib.legend.Legend at 0x7fcdb28e3550>"
      ]
     },
     "execution_count": 7,
     "metadata": {},
     "output_type": "execute_result"
    },
    {
     "data": {
      "image/png": "[encoded data removed]",
      "text/plain": [
       "<Figure size 432x288 with 1 Axes>"
      ]
     },
     "metadata": {
      "needs_background": "light"
     },
     "output_type": "display_data"
    }
   ],
   "source": [
    "import numpy as np\n",
    "\n",
    "    \n",
    "N = 4\n",
    "\n",
    "\n",
    "ind = np.arange(N) \n",
    "width = 0.35       \n",
    "plt.bar(ind, times, width)\n",
    "\n",
    "plt.xlabel(\"Noyau utilisé\")\n",
    "plt.ylabel(\"Temps d'exécution (secondes)\")\n",
    "plt.title(\"Temps d'exécution pour différents noyaux utilisés\")\n",
    "plt.xticks(ind, ('linear', 'poly', 'rbf', 'sigmoid'))\n",
    "plt.legend(loc='best')"
   ]
  },
  {
   "cell_type": "code",
   "execution_count": 8,
   "metadata": {},
   "outputs": [
    {
     "name": "stdout",
     "output_type": "stream",
     "text": [
      "C : 0.1 -> 0.95 (test)\n",
      "C : 0.1 -> 1.0 (train)\n",
      "C : 0.325 -> 0.95 (test)\n",
      "C : 0.325 -> 1.0 (train)\n",
      "C : 0.55 -> 0.95 (test)\n",
      "C : 0.55 -> 1.0 (train)\n",
      "C : 0.775 -> 0.95 (test)\n",
      "C : 0.775 -> 1.0 (train)\n",
      "C : 1.0 -> 0.95 (test)\n",
      "C : 1.0 -> 1.0 (train)\n"
     ]
    }
   ],
   "source": [
    "import numpy as np\n",
    "\n",
    "scores_c_test = []\n",
    "scores_c_train = []\n",
    "times = []\n",
    "erreurs = []\n",
    "\n",
    "Cs = np.linspace(0.1, 1, 5)\n",
    "\n",
    "for C in Cs:\n",
    "    \n",
    "    clf = SVC(kernel=\"poly\", gamma=\"auto\", C=C)\n",
    "    \n",
    "    start_time = time.process_time()\n",
    "    clf.fit(xtrain, ytrain)\n",
    "    exec_time = time.process_time() - start_time\n",
    "    times.append(exec_time)\n",
    "    \n",
    "    score_test = clf.score(xtest, ytest)\n",
    "    scores_c_test.append(score_test)\n",
    "    \n",
    "    score_train = clf.score(xtrain, ytrain)\n",
    "    scores_c_train.append(score_train)\n",
    "    \n",
    "    ypredict = clf.predict(xtest)\n",
    "    erreurs.append(zero_one_loss(ytest, ypredict))\n",
    "    \n",
    "    print(\"C : \" + str(C) + \" -> \" + str(score_test) + \" (test)\")\n",
    "    print(\"C : \" + str(C) + \" -> \" + str(score_train) + \" (train)\")\n",
    "    \n",
    "    "
   ]
  },
  {
   "cell_type": "code",
   "execution_count": 9,
   "metadata": {},
   "outputs": [
    {
     "data": {
      "image/png": "[encoded data removed]",
      "text/plain": [
       "<Figure size 432x288 with 1 Axes>"
      ]
     },
     "metadata": {
      "needs_background": "light"
     },
     "output_type": "display_data"
    },
    {
     "data": {
      "text/plain": [
       "Text(0.5, 1.0, 'Score pour différents C')"
      ]
     },
     "execution_count": 9,
     "metadata": {},
     "output_type": "execute_result"
    },
    {
     "data": {
      "image/png": "[encoded data removed]",
      "text/plain": [
       "<Figure size 432x288 with 1 Axes>"
      ]
     },
     "metadata": {
      "needs_background": "light"
     },
     "output_type": "display_data"
    }
   ],
   "source": [
    "\n",
    "plt.ylim(4.4, 5.4)\n",
    "\n",
    "plt.plot([x for x in np.linspace(0.1, 1, 5)], times)\n",
    "\n",
    "plt.xlabel(\"Paramètre C utilisé\")\n",
    "plt.ylabel(\"Temps d'exécution (secondes)\")\n",
    "plt.title(\"Temps d'entrainement pour différentes valeur de C\")\n",
    "\n",
    "plt.show()\n",
    "\n",
    "\n",
    "plt.plot([x for x in Cs], scores_c_test)\n",
    "plt.plot([x for x in Cs], scores_c_train)\n",
    "plt.plot([x for x in Cs], erreurs)\n",
    "\n",
    "\n",
    "plt.legend(['Precision test', 'Precision train', \"Erreur test\"], loc='best')\n",
    "plt.xlabel(\"C\")\n",
    "plt.ylabel(\"Precision\")\n",
    "plt.title(\"Score pour différents C\")"
   ]
  },
  {
   "cell_type": "code",
   "execution_count": 10,
   "metadata": {},
   "outputs": [
    {
     "data": {
      "text/plain": [
       "Text(0.5, 1.0, 'Score pour différents C')"
      ]
     },
     "execution_count": 10,
     "metadata": {},
     "output_type": "execute_result"
    },
    {
     "data": {
      "image/png": "[encoded data removed]",
      "text/plain": [
       "<Figure size 432x288 with 1 Axes>"
      ]
     },
     "metadata": {
      "needs_background": "light"
     },
     "output_type": "display_data"
    }
   ],
   "source": [
    "import matplotlib.pyplot as plt\n",
    "\n",
    "plt.plot([x for x in Cs], scores_c_test)\n",
    "plt.plot([x for x in Cs], scores_c_train)\n",
    "\n",
    "plt.legend(['Precision test', 'Precision train'], loc='best')\n",
    "plt.xlabel(\"C\")\n",
    "plt.ylabel(\"Precision\")\n",
    "plt.title(\"Score pour différents C\")"
   ]
  },
  {
   "cell_type": "code",
   "execution_count": 11,
   "metadata": {},
   "outputs": [
    {
     "name": "stdout",
     "output_type": "stream",
     "text": [
      "[[201   0   0   0   0   2   0   0   2   1]\n",
      " [  0 226   0   1   0   0   0   0   1   1]\n",
      " [  2   1 180   2   1   0   1   2   0   0]\n",
      " [  0   3   1 201   0   2   0   3   2   2]\n",
      " [  1   2   0   0 189   0   1   0   0   2]\n",
      " [  0   2   2   6   0 175   2   0   3   0]\n",
      " [  1   0   2   0   0   0 196   0   0   0]\n",
      " [  0   3   1   1   2   1   0 227   0   3]\n",
      " [  1   6   2   1   1   4   1   1 193   1]\n",
      " [  2   2   1   2   8   1   0   5   1 207]]\n"
     ]
    }
   ],
   "source": [
    "from sklearn.metrics import confusion_matrix\n",
    "\n",
    "clf = SVC(kernel=\"poly\", gamma=\"auto\")\n",
    "\n",
    "clf.fit(xtrain, ytrain)\n",
    "\n",
    "found_classes = clf.predict(xtest)\n",
    "\n",
    "cm = confusion_matrix(ytest, found_classes)\n",
    "\n",
    "print(cm)"
   ]
  }
 ],
 "metadata": {
  "kernelspec": {
   "display_name": "Python 3",
   "language": "python",
   "name": "python3"
  },
  "language_info": {
   "codemirror_mode": {
    "name": "ipython",
    "version": 3
   },
   "file_extension": ".py",
   "mimetype": "text/x-python",
   "name": "python",
   "nbconvert_exporter": "python",
   "pygments_lexer": "ipython3",
   "version": "3.7.3"
  },
  "latex_envs": {
   "LaTeX_envs_menu_present": true,
   "autoclose": false,
   "autocomplete": true,
   "bibliofile": "biblio.bib",
   "cite_by": "apalike",
   "current_citInitial": 1,
   "eqLabelWithNumbers": true,
   "eqNumInitial": 1,
   "hotkeys": {
    "equation": "Ctrl-E",
    "itemize": "Ctrl-I"
   },
   "labels_anchors": false,
   "latex_user_defs": false,
   "report_style_numbering": false,
   "user_envs_cfg": false
  }
 },
 "nbformat": 4,
 "nbformat_minor": 2
}
