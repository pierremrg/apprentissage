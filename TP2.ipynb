{
 "cells": [
  {
   "cell_type": "code",
   "execution_count": 58,
   "metadata": {},
   "outputs": [],
   "source": [
    "from sklearn.datasets import fetch_openml\n",
    "\n",
    "mnist = fetch_openml('mnist_784')"
   ]
  },
  {
   "cell_type": "code",
   "execution_count": 143,
   "metadata": {},
   "outputs": [],
   "source": [
    "import numpy as np\n",
    "\n",
    "indexes = np.random.randint(70000, size=7000)\n",
    "\n",
    "xtrain = mnist.data[indexes][:4900]\n",
    "xtest = mnist.data[indexes][4900:]\n",
    "\n",
    "ytrain = mnist.target[indexes][:4900]\n",
    "ytest = mnist.target[indexes][4900:]\n",
    "\n",
    "# xtrain = mnist.data[:4900]\n",
    "# xtest = mnist.data[4900:]\n",
    "\n",
    "# ytrain = mnist.target[:49000]\n",
    "# ytest = mnist.target[49000:]"
   ]
  },
  {
   "cell_type": "code",
   "execution_count": 144,
   "metadata": {},
   "outputs": [],
   "source": [
    "from sklearn.neural_network import MLPClassifier\n",
    "\n",
    "clf = MLPClassifier(hidden_layer_sizes=(50))"
   ]
  },
  {
   "cell_type": "code",
   "execution_count": 145,
   "metadata": {},
   "outputs": [
    {
     "data": {
      "text/plain": [
       "MLPClassifier(activation='relu', alpha=0.0001, batch_size='auto', beta_1=0.9,\n",
       "              beta_2=0.999, early_stopping=False, epsilon=1e-08,\n",
       "              hidden_layer_sizes=50, learning_rate='constant',\n",
       "              learning_rate_init=0.001, max_iter=200, momentum=0.9,\n",
       "              n_iter_no_change=10, nesterovs_momentum=True, power_t=0.5,\n",
       "              random_state=None, shuffle=True, solver='adam', tol=0.0001,\n",
       "              validation_fraction=0.1, verbose=False, warm_start=False)"
      ]
     },
     "execution_count": 145,
     "metadata": {},
     "output_type": "execute_result"
    }
   ],
   "source": [
    "clf.fit(xtrain, ytrain)"
   ]
  },
  {
   "cell_type": "code",
   "execution_count": 146,
   "metadata": {},
   "outputs": [
    {
     "name": "stdout",
     "output_type": "stream",
     "text": [
      "Classe : 7 / Attendu 7 OK\n",
      "Classe : 5 / Attendu 5 OK\n",
      "Classe : 8 / Attendu 8 OK\n",
      "Classe : 0 / Attendu 5\n",
      "Classe : 4 / Attendu 4 OK\n",
      "Classe : 1 / Attendu 1 OK\n",
      "Classe : 5 / Attendu 7\n",
      "Classe : 6 / Attendu 5\n",
      "Classe : 0 / Attendu 0 OK\n",
      "Classe : 1 / Attendu 1 OK\n",
      "Classe : 7 / Attendu 7 OK\n",
      "Classe : 6 / Attendu 6 OK\n",
      "Classe : 0 / Attendu 0 OK\n",
      "Classe : 3 / Attendu 3 OK\n",
      "Classe : 2 / Attendu 2 OK\n",
      "Classe : 4 / Attendu 4 OK\n",
      "Classe : 8 / Attendu 8 OK\n",
      "Classe : 9 / Attendu 4\n",
      "Classe : 4 / Attendu 4 OK\n"
     ]
    }
   ],
   "source": [
    "import matplotlib.pyplot as plt\n",
    "\n",
    "itest = 19\n",
    "\n",
    "#images = xtest.reshape((-1, 28, 28))\n",
    "#plt.imshow(images[itest],cmap=plt.cm.gray_r,interpolation=\"nearest\")\n",
    "#plt.show()\n",
    "\n",
    "found_classes = clf.predict(xtest)\n",
    "\n",
    "for itest in range(1,20):\n",
    "    #itest = 4\n",
    "    \n",
    "    res =  \" OK\" if ytest[itest] == found_classes[itest] else \"\"\n",
    "\n",
    "    print(\"Classe : \" + ytest[itest] + \" / Attendu \" + found_classes[itest] + res)\n",
    "\n"
   ]
  },
  {
   "cell_type": "code",
   "execution_count": 147,
   "metadata": {},
   "outputs": [
    {
     "name": "stdout",
     "output_type": "stream",
     "text": [
      "Score clf : 0.878095238095238\n",
      "Score micro : 0.878095238095238\n",
      "Score macro : 0.8782773415790588\n",
      "Score weighted : 0.8793551565507337\n"
     ]
    }
   ],
   "source": [
    "from sklearn.metrics import precision_score\n",
    "\n",
    "print(\"Score clf : \" + str(clf.score(xtest, ytest)))\n",
    "print(\"Score micro : \" + str(precision_score(ytest, found_classes, average=\"micro\")))\n",
    "print(\"Score macro : \" + str(precision_score(ytest, found_classes, average=\"macro\")))\n",
    "print(\"Score weighted : \" + str(precision_score(ytest, found_classes, average=\"weighted\")))"
   ]
  },
  {
   "cell_type": "markdown",
   "metadata": {},
   "source": [
    "# Tests de précision\n",
    "- 2 couches à 50 neurones\n",
    "- 10 couches à 50 neurones\n",
    "- 20 couches à 50 neurones\n",
    "- 50 couches à 50 neurones\n",
    "- 100 couches à 50 neurones\n",
    "\n",
    "Puis faire 50 couches avec 60, 59, 58, ... neurones\n",
    "\n",
    "Puis faire 20 couches avec 60, 57, 54, ... neurones"
   ]
  },
  {
   "cell_type": "code",
   "execution_count": 148,
   "metadata": {},
   "outputs": [
    {
     "name": "stdout",
     "output_type": "stream",
     "text": [
      "Couches : 1 -> 0.8804761904761905\n",
      "Couches : 1 -> 0.9855102040816327\n",
      "Couches : 2 -> 0.8380952380952381\n",
      "Couches : 2 -> 1.0\n",
      "Couches : 10 -> 0.9171428571428571\n",
      "Couches : 10 -> 0.996734693877551\n",
      "Couches : 20 -> 0.9328571428571428\n",
      "Couches : 20 -> 0.9953061224489796\n",
      "Couches : 50 -> 0.09666666666666666\n",
      "Couches : 50 -> 0.11653061224489795\n",
      "Couches : 100 -> 0.10476190476190476\n",
      "Couches : 100 -> 0.11346938775510204\n"
     ]
    }
   ],
   "source": [
    "couche = (50,)\n",
    "scores_couches_test = []\n",
    "scores_couches_train = []\n",
    "\n",
    "nb_couches = [1, 2, 10, 20, 50, 100]\n",
    "\n",
    "\n",
    "\n",
    "for i in nb_couches:\n",
    "    \n",
    "\n",
    "    clf = MLPClassifier(hidden_layer_sizes=(couche*i))\n",
    "    clf.fit(xtrain, ytrain)\n",
    "\n",
    "    score_test = clf.score(xtest, ytest)\n",
    "    scores_couches_test.append(score_test)\n",
    "    \n",
    "    score_train = clf.score(xtrain, ytrain)\n",
    "    scores_couches_train.append(score_train)\n",
    "    \n",
    "    print(\"Couches : \" + str(i) + \" -> \" + str(score_test))\n",
    "    print(\"Couches : \" + str(i) + \" -> \" + str(score_train))\n",
    "\n",
    "    \n",
    "\n"
   ]
  },
  {
   "cell_type": "code",
   "execution_count": 150,
   "metadata": {},
   "outputs": [
    {
     "data": {
      "text/plain": [
       "Text(0.5, 1.0, 'Score pour différents nombre de couches de 50 neurones')"
      ]
     },
     "execution_count": 150,
     "metadata": {},
     "output_type": "execute_result"
    },
    {
     "data": {
      "image/png": "[encoded data removed]",
      "text/plain": [
       "<Figure size 432x288 with 1 Axes>"
      ]
     },
     "metadata": {
      "needs_background": "light"
     },
     "output_type": "display_data"
    }
   ],
   "source": [
    "plt.plot([x for x in nb_couches], scores_couches_test)\n",
    "plt.plot([x for x in nb_couches], scores_couches_train)\n",
    "\n",
    "plt.legend(['Precision test', 'Precision train'], loc='upper right')\n",
    "plt.xlabel(\"Nombre de couches de 50 neuronnes\")\n",
    "plt.ylabel(\"Precision\")\n",
    "plt.title(\"Score pour différents nombre de couches de 50 neurones\")"
   ]
  },
  {
   "cell_type": "markdown",
   "metadata": {},
   "source": [
    "On voit sur notre graphique que la précision pour les données d'entrainement diminue également. cela signifie que notre algoritme n'arrive pas à généraliser notre modèle\n",
    "# Overfitting\n",
    "L'algorithme est tellement bien entrainé avec toutes les valeurs dont il dispose en train qui fait de mauvaises prédictions. Exemple avec la droite\n",
    "\n",
    "\n",
    "\n",
    "Calculer la précision pour 50 couches de 60, puis 59, puis 58, ... neurones."
   ]
  },
  {
   "cell_type": "code",
   "execution_count": 151,
   "metadata": {},
   "outputs": [
    {
     "name": "stdout",
     "output_type": "stream",
     "text": [
      "(60, 59, 58, 57, 56, 55, 54, 53, 52, 51, 50, 49, 48, 47, 46, 45, 44, 43, 42, 41, 40, 39, 38, 37, 36, 35, 34, 33, 32, 31, 30, 29, 28, 27, 26, 25, 24, 23, 22, 21, 20, 19, 18, 17, 16, 15, 14, 13, 12, 11)\n"
     ]
    },
    {
     "data": {
      "text/plain": [
       "MLPClassifier(activation='relu', alpha=0.0001, batch_size='auto', beta_1=0.9,\n",
       "              beta_2=0.999, early_stopping=False, epsilon=1e-08,\n",
       "              hidden_layer_sizes=(60, 59, 58, 57, 56, 55, 54, 53, 52, 51, 50,\n",
       "                                  49, 48, 47, 46, 45, 44, 43, 42, 41, 40, 39,\n",
       "                                  38, 37, 36, 35, 34, 33, 32, 31, ...),\n",
       "              learning_rate='constant', learning_rate_init=0.001, max_iter=200,\n",
       "              momentum=0.9, n_iter_no_change=10, nesterovs_momentum=True,\n",
       "              power_t=0.5, random_state=None, shuffle=True, solver='adam',\n",
       "              tol=0.0001, validation_fraction=0.1, verbose=False,\n",
       "              warm_start=False)"
      ]
     },
     "execution_count": 151,
     "metadata": {},
     "output_type": "execute_result"
    }
   ],
   "source": [
    "couches = (60,)\n",
    "for i in range(59 , 10, -1):\n",
    "    couches = couches + (i,)\n",
    "    \n",
    "print(couches)\n",
    "\n",
    "\n",
    "clf = MLPClassifier(hidden_layer_sizes=(couches))\n",
    "clf.fit(xtrain, ytrain)\n"
   ]
  },
  {
   "cell_type": "code",
   "execution_count": 152,
   "metadata": {},
   "outputs": [
    {
     "name": "stdout",
     "output_type": "stream",
     "text": [
      "0.6752380952380952\n",
      "0.7391836734693877\n"
     ]
    }
   ],
   "source": [
    "score_test = clf.score(xtest, ytest)\n",
    "score_train = clf.score(xtrain, ytrain)\n",
    "print(score_test)\n",
    "print(score_train)"
   ]
  },
  {
   "cell_type": "markdown",
   "metadata": {},
   "source": [
    "Calculer la précision pour 20 couches de 60, puis 57, puis 54, ... neurones."
   ]
  },
  {
   "cell_type": "code",
   "execution_count": 153,
   "metadata": {},
   "outputs": [
    {
     "name": "stdout",
     "output_type": "stream",
     "text": [
      "(60, 57, 54, 51, 48, 45, 42, 39, 36, 33, 30, 27, 24, 21, 18, 15, 12, 9, 6, 3)\n"
     ]
    },
    {
     "data": {
      "text/plain": [
       "MLPClassifier(activation='relu', alpha=0.0001, batch_size='auto', beta_1=0.9,\n",
       "              beta_2=0.999, early_stopping=False, epsilon=1e-08,\n",
       "              hidden_layer_sizes=(60, 57, 54, 51, 48, 45, 42, 39, 36, 33, 30,\n",
       "                                  27, 24, 21, 18, 15, 12, 9, 6, 3),\n",
       "              learning_rate='constant', learning_rate_init=0.001, max_iter=200,\n",
       "              momentum=0.9, n_iter_no_change=10, nesterovs_momentum=True,\n",
       "              power_t=0.5, random_state=None, shuffle=True, solver='adam',\n",
       "              tol=0.0001, validation_fraction=0.1, verbose=False,\n",
       "              warm_start=False)"
      ]
     },
     "execution_count": 153,
     "metadata": {},
     "output_type": "execute_result"
    }
   ],
   "source": [
    "couches = (60,)\n",
    "for i in range(57 , 0, -3):\n",
    "    couches = couches + (i,)\n",
    "    \n",
    "print(couches)\n",
    "\n",
    "\n",
    "clf = MLPClassifier(hidden_layer_sizes=(couches))\n",
    "clf.fit(xtrain, ytrain)\n"
   ]
  },
  {
   "cell_type": "code",
   "execution_count": 154,
   "metadata": {},
   "outputs": [
    {
     "name": "stdout",
     "output_type": "stream",
     "text": [
      "0.8195238095238095\n",
      "0.8859183673469387\n"
     ]
    }
   ],
   "source": [
    "score_test = clf.score(xtest, ytest)\n",
    "score_train = clf.score(xtrain, ytrain)\n",
    "print(score_test)\n",
    "print(score_train)"
   ]
  }
 ],
 "metadata": {
  "kernelspec": {
   "display_name": "Python 3",
   "language": "python",
   "name": "python3"
  },
  "language_info": {
   "codemirror_mode": {
    "name": "ipython",
    "version": 3
   },
   "file_extension": ".py",
   "mimetype": "text/x-python",
   "name": "python",
   "nbconvert_exporter": "python",
   "pygments_lexer": "ipython3",
   "version": "3.7.4"
  }
 },
 "nbformat": 4,
 "nbformat_minor": 2
}
