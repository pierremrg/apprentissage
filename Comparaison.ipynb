{
 "cells": [
  {
   "cell_type": "code",
   "execution_count": 1,
   "metadata": {},
   "outputs": [],
   "source": [
    "from sklearn.datasets import fetch_openml\n",
    "\n",
    "mnist = fetch_openml('mnist_784')"
   ]
  },
  {
   "cell_type": "code",
   "execution_count": 2,
   "metadata": {},
   "outputs": [],
   "source": [
    "import numpy as np\n",
    "import time\n",
    "import matplotlib.pyplot as plt\n",
    "\n",
    "from sklearn import model_selection\n",
    "from sklearn import neighbors\n",
    "from sklearn import datasets\n",
    "from sklearn.neural_network import MLPClassifier\n",
    "from sklearn.svm import SVC\n"
   ]
  },
  {
   "cell_type": "code",
   "execution_count": 3,
   "metadata": {},
   "outputs": [],
   "source": [
    "# Choix de nos données pour comparer les différentes méthodes\n",
    "indexes = np.random.randint(70000, size=7000)\n",
    "\n",
    "data = mnist.data[indexes]\n",
    "target = mnist.target[indexes]\n",
    "\n",
    "xtrain, xtest, ytrain, ytest = model_selection.train_test_split(\n",
    "    data, target, train_size=0.8\n",
    ")"
   ]
  },
  {
   "cell_type": "markdown",
   "metadata": {},
   "source": [
    "# Méthode K-NN\n",
    "\n",
    "Pour la méthode k-NN, nous avons choisi les paramètres suivants\n",
    "    - k=5\n",
    "    - p=20\n",
    "    - n_jobs = -1"
   ]
  },
  {
   "cell_type": "code",
   "execution_count": 4,
   "metadata": {},
   "outputs": [],
   "source": [
    "# Méthode K-NN\n",
    "\n",
    "clf = neighbors.KNeighborsClassifier(5, p=20, n_jobs = -1)\n",
    "\n",
    "start_time = time.process_time()\n",
    "clf.fit(xtrain, ytrain)\n",
    "knn_fit_time = time.process_time() - start_time\n",
    "\n",
    "\n",
    "start_time = time.process_time()\n",
    "knn_score = clf.score(xtest, ytest)\n",
    "knn_score_time = time.process_time() - start_time\n",
    "\n",
    "knn_score_train = clf.score(xtrain, ytrain)\n"
   ]
  },
  {
   "cell_type": "code",
   "execution_count": 5,
   "metadata": {},
   "outputs": [
    {
     "name": "stdout",
     "output_type": "stream",
     "text": [
      "Score en train : 0.9605357142857143\n",
      "Score en test : 0.9464285714285714\n",
      "Temps pour l'entrainement : 0.15 secondes\n",
      "Temps pour la classification : 203.49 secondes\n"
     ]
    }
   ],
   "source": [
    "print(\"Score en train : \" + str(knn_score_train))\n",
    "print(\"Score en test : \" + str(knn_score))\n",
    "\n",
    "print(\"Temps pour l'entrainement : \" + str(round(knn_fit_time, 2)) + \" secondes\")\n",
    "print(\"Temps pour la classification : \" + str(round(knn_score_time, 2)) + \" secondes\")"
   ]
  },
  {
   "cell_type": "markdown",
   "metadata": {},
   "source": [
    "# Méthode ANN\n",
    "\n",
    "Pour la méthode ANN, nous avons choisi les paramètres suivants\n",
    "    - 20 couches de 50 neurones\n",
    "    - solver = adam\n",
    "    - activation = identity\n",
    "    - alpha = 0.0001"
   ]
  },
  {
   "cell_type": "code",
   "execution_count": 6,
   "metadata": {},
   "outputs": [],
   "source": [
    "couche = (50,)\n",
    "\n",
    "clf = MLPClassifier(hidden_layer_sizes=(couche*20), solver=\"adam\", activation=\"identity\", alpha=0.0001)\n",
    "\n",
    "start_time = time.process_time()\n",
    "clf.fit(xtrain, ytrain)\n",
    "ann_fit_time = time.process_time() - start_time\n",
    "\n",
    "start_time = time.process_time()\n",
    "ann_score = clf.score(xtest, ytest)\n",
    "ann_score_time = time.process_time() - start_time\n",
    "\n",
    "ann_score_train = clf.score(xtrain, ytrain)\n"
   ]
  },
  {
   "cell_type": "code",
   "execution_count": 7,
   "metadata": {},
   "outputs": [
    {
     "name": "stdout",
     "output_type": "stream",
     "text": [
      "Score en train : 0.9621428571428572\n",
      "Score en test : 0.8785714285714286\n",
      "Temps pour l'entrainement : 50.92 secondes\n",
      "Temps pour la classification : 0.03 secondes\n"
     ]
    }
   ],
   "source": [
    "print(\"Score en train : \" + str(ann_score_train))\n",
    "print(\"Score en test : \" + str(ann_score))\n",
    "\n",
    "print(\"Temps pour l'entrainement : \" + str(round(ann_fit_time, 2)) + \" secondes\")\n",
    "print(\"Temps pour la classification : \" + str(round(ann_score_time, 2)) + \" secondes\")"
   ]
  },
  {
   "cell_type": "markdown",
   "metadata": {},
   "source": [
    "# Méthode SVM\n",
    "\n",
    "Pour la méthode SVM, nous avons choisi les paramètres suivants\n",
    "    - kernel = poly\n",
    "    - gamma = auto\n",
    "    - pas de valeur particulière pour C, car ce paramètre n'influe pas significativement le résultat, comme nous l'avons vu précédemment"
   ]
  },
  {
   "cell_type": "code",
   "execution_count": 8,
   "metadata": {},
   "outputs": [],
   "source": [
    "clf = SVC(kernel=\"poly\", gamma=\"auto\")\n",
    "\n",
    "start_time = time.process_time()\n",
    "clf.fit(xtrain, ytrain)\n",
    "svm_fit_time = time.process_time() - start_time\n",
    "\n",
    "start_time = time.process_time()\n",
    "svm_score = clf.score(xtest, ytest)\n",
    "svm_score_time = time.process_time() - start_time\n",
    "\n",
    "svm_score_train = clf.score(xtrain, ytrain)"
   ]
  },
  {
   "cell_type": "code",
   "execution_count": 9,
   "metadata": {},
   "outputs": [
    {
     "name": "stdout",
     "output_type": "stream",
     "text": [
      "Score en train : 1.0\n",
      "Score en test : 0.9457142857142857\n",
      "Temps pour l'entrainement : 6.8 secondes\n",
      "Temps pour la classification : 1.84 secondes\n"
     ]
    }
   ],
   "source": [
    "print(\"Score en train : \" + str(svm_score_train))\n",
    "print(\"Score en test : \" + str(svm_score))\n",
    "\n",
    "print(\"Temps pour l'entrainement : \" + str(round(svm_fit_time, 2)) + \" secondes\")\n",
    "print(\"Temps pour la classification : \" + str(round(svm_score_time, 2)) + \" secondes\")"
   ]
  },
  {
   "cell_type": "markdown",
   "metadata": {},
   "source": [
    "# Conclusion\n",
    "\n",
    "Note : pour être certains que les valeurs de précision présentées dans cette conclusion soient cohérentes, et non pas un \"coup de chance\", nous avons relancé plusieurs fois les codes ci-dessus, pour plusieurs données différentes (elles sont choisies au hasard dans la troisième cellule) \n",
    "\n",
    "Les différents tests ci-dessus mettent en évidence que chaque modèle effectue des prédictions avec une forte précision si les hyper paramètres sont ajustés.\n",
    "\n",
    "Dans notre cas, c'est la méthode SVM qui semble la plus adaptée, avec une précision autour de 0.94 et des temps d'entrainement et de prédiction relativement faibles."
   ]
  },
  {
   "cell_type": "code",
   "execution_count": 11,
   "metadata": {},
   "outputs": [
    {
     "data": {
      "text/plain": [
       "<matplotlib.legend.Legend at 0x7f8f2ce3ee80>"
      ]
     },
     "execution_count": 11,
     "metadata": {},
     "output_type": "execute_result"
    },
    {
     "data": {
      "image/png": "[encoded data removed]",
      "text/plain": [
       "<Figure size 936x720 with 4 Axes>"
      ]
     },
     "metadata": {
      "needs_background": "light"
     },
     "output_type": "display_data"
    }
   ],
   "source": [
    "import numpy as np\n",
    "\n",
    "plt.figure(figsize=(13, 10))\n",
    "\n",
    "\n",
    "\n",
    "plt.subplot(2, 2, 1)\n",
    "\n",
    "    \n",
    "N = 3\n",
    "fit = (knn_fit_time, ann_fit_time, svm_fit_time)\n",
    "score = (knn_score_time, ann_score_time, svm_score_time)\n",
    "\n",
    "ind = np.arange(N) \n",
    "width = 0.35       \n",
    "plt.bar(ind, fit, width, label='Temps d\\'entrainement')\n",
    "plt.bar(ind + width, score, width,\n",
    "    label='Temps de prédiction')\n",
    "\n",
    "plt.ylabel('Temps en secondes')\n",
    "plt.title('Temps d\\'entrainement et de prédictions (echelle 0 -> 200)')\n",
    "\n",
    "plt.xticks(ind + width / 2, ('k-NN', 'ANN', 'SVM'))\n",
    "plt.legend(loc='best')\n",
    "\n",
    "plt.subplot(2, 2, 2)\n",
    "\n",
    "\n",
    "N = 3\n",
    "fit = (knn_fit_time, ann_fit_time, svm_fit_time)\n",
    "score = (knn_score_time, ann_score_time, svm_score_time)\n",
    "\n",
    "ind = np.arange(N) \n",
    "width = 0.35       \n",
    "plt.bar(ind, fit, width, label='Temps d\\'entrainement')\n",
    "plt.bar(ind + width, score, width,\n",
    "    label='Temps de prédiction')\n",
    "\n",
    "plt.ylabel('Temps en secondes')\n",
    "plt.ylim(0, 55)\n",
    "plt.title('Temps d\\'entrainement et de prédictions (echelle 0 -> 55)')\n",
    "\n",
    "plt.xticks(ind + width / 2, ('k-NN', 'ANN', 'SVM'))\n",
    "plt.legend(loc='best')\n",
    "\n",
    "\n",
    "plt.subplot(2, 2, 3)\n",
    "\n",
    "\n",
    "N = 3\n",
    "fit = (knn_fit_time, ann_fit_time, svm_fit_time)\n",
    "score = (knn_score_time, ann_score_time, svm_score_time)\n",
    "\n",
    "ind = np.arange(N) \n",
    "width = 0.35       \n",
    "plt.bar(ind, fit, width, label='Temps d\\'entrainement')\n",
    "plt.bar(ind + width, score, width,\n",
    "    label='Temps de prédiction')\n",
    "\n",
    "plt.ylabel('Temps en secondes')\n",
    "plt.ylim(0, 10)\n",
    "plt.title('Temps d\\'entrainement et de prédictions (echelle 0 -> 10)')\n",
    "\n",
    "plt.xticks(ind + width / 2, ('k-NN', 'ANN', 'SVM'))\n",
    "plt.legend(loc='best')\n",
    "\n",
    "plt.subplot(2, 2, 4)\n",
    "\n",
    "\n",
    "\n",
    "N = 3\n",
    "fit = (knn_fit_time, ann_fit_time, svm_fit_time)\n",
    "score = (knn_score_time, ann_score_time, svm_score_time)\n",
    "\n",
    "ind = np.arange(N) \n",
    "width = 0.35       \n",
    "plt.bar(ind, fit, width, label='Temps d\\'entrainement')\n",
    "plt.bar(ind + width, score, width,\n",
    "    label='Temps de prédiction')\n",
    "\n",
    "plt.ylabel('Temps en secondes')\n",
    "plt.ylim(0, 2)\n",
    "plt.title('Temps d\\'entrainement et de prédictions (echelle 0 -> 2)')\n",
    "\n",
    "plt.xticks(ind + width / 2, ('k-NN', 'ANN', 'SVM'))\n",
    "plt.legend(loc='best')"
   ]
  },
  {
   "cell_type": "code",
   "execution_count": 12,
   "metadata": {},
   "outputs": [
    {
     "data": {
      "text/plain": [
       "<matplotlib.legend.Legend at 0x7f8f2cd85208>"
      ]
     },
     "execution_count": 12,
     "metadata": {},
     "output_type": "execute_result"
    },
    {
     "data": {
      "image/png": "[encoded data removed]",
      "text/plain": [
       "<Figure size 432x288 with 1 Axes>"
      ]
     },
     "metadata": {
      "needs_background": "light"
     },
     "output_type": "display_data"
    }
   ],
   "source": [
    "import numpy as np\n",
    "\n",
    "    \n",
    "N = 3\n",
    "fit = (knn_score, ann_score, svm_score)\n",
    "score = (knn_score_train, ann_score_train, svm_score_train)\n",
    "\n",
    "ind = np.arange(N) \n",
    "width = 0.35       \n",
    "plt.bar(ind, fit, width, label='Score test')\n",
    "plt.bar(ind + width, score, width,\n",
    "    label='Score entrainement')\n",
    "\n",
    "plt.ylabel('Score')\n",
    "plt.title('Précision des différentes méthodes utilisées')\n",
    "plt.ylim(0, 1.5)\n",
    "plt.xticks(ind + width / 2, ('k-NN', 'ANN', 'SVM'))\n",
    "plt.legend(loc='best')"
   ]
  }
 ],
 "metadata": {
  "kernelspec": {
   "display_name": "Python 3",
   "language": "python",
   "name": "python3"
  },
  "language_info": {
   "codemirror_mode": {
    "name": "ipython",
    "version": 3
   },
   "file_extension": ".py",
   "mimetype": "text/x-python",
   "name": "python",
   "nbconvert_exporter": "python",
   "pygments_lexer": "ipython3",
   "version": "3.7.3"
  },
  "latex_envs": {
   "LaTeX_envs_menu_present": true,
   "autoclose": false,
   "autocomplete": true,
   "bibliofile": "biblio.bib",
   "cite_by": "apalike",
   "current_citInitial": 1,
   "eqLabelWithNumbers": true,
   "eqNumInitial": 1,
   "hotkeys": {
    "equation": "Ctrl-E",
    "itemize": "Ctrl-I"
   },
   "labels_anchors": false,
   "latex_user_defs": false,
   "report_style_numbering": false,
   "user_envs_cfg": false
  }
 },
 "nbformat": 4,
 "nbformat_minor": 2
}
