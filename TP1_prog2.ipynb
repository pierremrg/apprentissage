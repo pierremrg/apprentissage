{
 "cells": [
  {
   "cell_type": "code",
   "execution_count": 25,
   "metadata": {},
   "outputs": [],
   "source": [
    "from sklearn.datasets import fetch_openml\n",
    "\n",
    "mnist = fetch_openml('mnist_784')"
   ]
  },
  {
   "cell_type": "code",
   "execution_count": 72,
   "metadata": {},
   "outputs": [],
   "source": [
    "import numpy as np\n",
    "from sklearn import model_selection\n",
    "\n",
    "indexes = np.random.randint(70000, size=5000)\n",
    "\n",
    "data = mnist.data[indexes]\n",
    "#print(data.shape)\n",
    "target = mnist.target[indexes]\n",
    "\n",
    "xtrain, xtest, ytrain, ytest = model_selection.train_test_split(\n",
    "    data, target, train_size=0.8\n",
    ")\n"
   ]
  },
  {
   "cell_type": "code",
   "execution_count": null,
   "metadata": {},
   "outputs": [],
   "source": [
    "from sklearn import neighbors\n",
    "\n",
    "k = 10\n",
    "\n",
    "clf = neighbors.KNeighborsClassifier(k)\n",
    "clf.fit(xtrain, ytrain)\n",
    "\n",
    "probas = clf.predict_proba(xtest)"
   ]
  },
  {
   "cell_type": "code",
   "execution_count": null,
   "metadata": {},
   "outputs": [],
   "source": [
    "from sklearn import datasets\n",
    "import matplotlib.pyplot as plt\n",
    "\n",
    "itest = 4\n",
    "\n",
    "images = data.reshape((-1, 28, 28))\n",
    "plt.imshow(images[itest],cmap=plt.cm.gray_r,interpolation=\"nearest\")\n",
    "plt.show()\n",
    "\n",
    "print(probas[itest])"
   ]
  },
  {
   "cell_type": "code",
   "execution_count": null,
   "metadata": {},
   "outputs": [],
   "source": [
    "#clf.score(xtest, ytest)\n",
    "found_classes = clf.predict(xtest)"
   ]
  },
  {
   "cell_type": "code",
   "execution_count": null,
   "metadata": {},
   "outputs": [],
   "source": [
    "for itest in range(1,20):\n",
    "    #itest = 4\n",
    "    \n",
    "    res =  \" OK\" if ytest[itest] == found_classes[itest] else \"\"\n",
    "\n",
    "    print(\"Classe : \" + ytest[itest] + \" / \" + found_classes[itest] + res)"
   ]
  },
  {
   "cell_type": "code",
   "execution_count": null,
   "metadata": {},
   "outputs": [],
   "source": [
    "from sklearn.model_selection import KFold\n",
    "\n",
    "scores_k = [0 for i in range(0,16)]\n",
    "\n",
    "nb_splits = 10\n",
    "\n",
    "# k = Nombre de voisins à considérer\n",
    "for k in range(2,16):\n",
    "    clf = neighbors.KNeighborsClassifier(k)    \n",
    "    kf = KFold(n_splits=nb_splits, shuffle=True)\n",
    "\n",
    "    \n",
    "\n",
    "    for train_indexes, test_indexes in kf.split(data):\n",
    "        # Calcul des xtest/ytest/xtrain/ytrain\n",
    "        xtrain = data[train_indexes]\n",
    "        xtest = data[test_indexes]\n",
    "        ytrain = target[train_indexes]\n",
    "        ytest = target[test_indexes]\n",
    "    \n",
    "        clf.fit(xtrain, ytrain)\n",
    "        \n",
    "        print(\".\", end = '')\n",
    "        scores_k[k] += clf.score(xtest, ytest) / nb_splits\n",
    "        \n",
    "    \n",
    "    print(scores_k[k])"
   ]
  },
  {
   "cell_type": "code",
   "execution_count": 31,
   "metadata": {},
   "outputs": [
    {
     "name": "stdout",
     "output_type": "stream",
     "text": [
      "K = 2 -> 0.8566457737450117\n",
      "K = 3 -> 0.8765479054641787\n",
      "K = 4 -> 0.8764022380257599\n",
      "K = 5 -> 0.8834478403308724\n",
      "K = 6 -> 0.8726449191461215\n",
      "K = 7 -> 0.8677731445476663\n",
      "K = 8 -> 0.8656039034885799\n",
      "K = 9 -> 0.8488901696003065\n",
      "K = 10 -> 0.8570040177202808\n",
      "K = 11 -> 0.8479183359916063\n",
      "K = 12 -> 0.8518710331631019\n",
      "K = 13 -> 0.8528459533510004\n",
      "K = 14 -> 0.8507637667665019\n",
      "K = 15 -> 0.8445966015698154\n"
     ]
    }
   ],
   "source": [
    "from sklearn.model_selection import cross_val_score\n",
    "import numpy as np\n",
    "\n",
    "scores_k2 = [0 for i in range(0,16)]\n",
    "\n",
    "nb_splits = 10\n",
    "\n",
    "# k = Nombre de voisins à considérer\n",
    "for k in range(2,16):\n",
    "    clf = neighbors.KNeighborsClassifier(k)\n",
    "    clf.fit(xtrain, ytrain)\n",
    "    \n",
    "    score = np.mean(cross_val_score(clf, xtest, ytest, cv=10))\n",
    "\n",
    "    print(\"K = \" + str(k) + \" -> \" + str(score))\n",
    "    scores_k2[k] = score\n"
   ]
  },
  {
   "cell_type": "code",
   "execution_count": 33,
   "metadata": {},
   "outputs": [
    {
     "name": "stdout",
     "output_type": "stream",
     "text": [
      "[0, 0, 0.9212, 0.933, 0.9299999999999999, 0.9306000000000001, 0.9241999999999999, 0.9262, 0.9239999999999999, 0.9232, 0.9234, 0.9196, 0.9159999999999999, 0.9192000000000002, 0.9156, 0.9122]\n"
     ]
    },
    {
     "data": {
      "text/plain": [
       "Text(0.5, 1.0, 'Score pour différentes valeurs de k')"
      ]
     },
     "execution_count": 33,
     "metadata": {},
     "output_type": "execute_result"
    },
    {
     "data": {
      "image/png": "[encoded data removed]",
      "text/plain": [
       "<Figure size 432x288 with 1 Axes>"
      ]
     },
     "metadata": {
      "needs_background": "light"
     },
     "output_type": "display_data"
    }
   ],
   "source": [
    "print(scores_k)\n",
    "\n",
    "plt.plot([x for x in range(2, 16)], scores_k[2:])\n",
    "plt.plot([x for x in range(2, 16)], scores_k2[2:])\n",
    "\n",
    "plt.legend(['KFold', 'cross_val_score'], loc='upper right')\n",
    "plt.xlabel(\"k\")\n",
    "plt.ylabel(\"Precision\")\n",
    "plt.title(\"Score pour différentes valeurs de k\")\n",
    "\n",
    "#sklearn tsne"
   ]
  },
  {
   "cell_type": "markdown",
   "metadata": {
    "scrolled": false
   },
   "source": [
    "# Résultat\n",
    "\n",
    "Pour la suite, on prends la valeur k=5"
   ]
  },
  {
   "cell_type": "code",
   "execution_count": 102,
   "metadata": {},
   "outputs": [
    {
     "name": "stdout",
     "output_type": "stream",
     "text": [
      "Rate = 0.1 -> 0.8373333333333334\n",
      "Rate = 0.2 -> 0.889\n",
      "Rate = 0.3 -> 0.8974285714285715\n",
      "Rate = 0.4 -> 0.9076666666666666\n",
      "Rate = 0.5 -> 0.9144\n",
      "Rate = 0.6 -> 0.924\n",
      "Rate = 0.7 -> 0.9226666666666666\n",
      "Rate = 0.8 -> 0.937\n",
      "Rate = 0.9 -> 0.928\n"
     ]
    }
   ],
   "source": [
    "from sklearn import neighbors\n",
    "\n",
    "k=5\n",
    "rates = [0.1, 0.2, 0.3, 0.4, 0.5, 0.6, 0.7, 0.8, 0.9]\n",
    "\n",
    "scores_rate = []\n",
    "for rate in rates:\n",
    "    xtrain, xtest, ytrain, ytest = model_selection.train_test_split(\n",
    "        data, target, train_size=rate\n",
    "    )\n",
    "\n",
    "    clf = neighbors.KNeighborsClassifier(k)\n",
    "    clf.fit(xtrain, ytrain)\n",
    "    \n",
    "    #print(str(len(ytrain)) + \" - - - \" + str(rate))\n",
    "    score = clf.score(xtest, ytest)\n",
    "    \n",
    "    #score = np.mean(cross_val_score(clf, xtest, ytest, cv=10))\n",
    "\n",
    "    print(\"Rate = \" + str(rate) + \" -> \" + str(score))\n",
    "    scores_rate.append(score)    "
   ]
  },
  {
   "cell_type": "code",
   "execution_count": 103,
   "metadata": {},
   "outputs": [
    {
     "data": {
      "text/plain": [
       "Text(0.5, 1.0, 'Score pour différents pourcentages consacrés au train(k=5)')"
      ]
     },
     "execution_count": 103,
     "metadata": {},
     "output_type": "execute_result"
    },
    {
     "data": {
      "image/png": "[encoded data removed]",
      "text/plain": [
       "<Figure size 432x288 with 1 Axes>"
      ]
     },
     "metadata": {
      "needs_background": "light"
     },
     "output_type": "display_data"
    }
   ],
   "source": [
    "plt.plot([x for x in rates], scores_rate)\n",
    "\n",
    "plt.xlabel(\"Pourcentage consacré au train\")\n",
    "plt.ylabel(\"Precision\")\n",
    "plt.title(\"Score pour différents pourcentages consacrés au train(k=\" + str(k) +\")\")\n"
   ]
  },
  {
   "cell_type": "markdown",
   "metadata": {},
   "source": [
    "# Résultat\n",
    "Plus on alloue de données à l'entrainement, plus l'algorithme est efficace pour la classification."
   ]
  },
  {
   "cell_type": "code",
   "execution_count": 105,
   "metadata": {},
   "outputs": [
    {
     "name": "stdout",
     "output_type": "stream",
     "text": [
      "P = 1 -> 0.914\n",
      "P = 2 -> 0.927\n",
      "P = 3 -> 0.938\n",
      "P = 4 -> 0.941\n",
      "P = 5 -> 0.936\n",
      "P = 6 -> 0.937\n",
      "P = 7 -> 0.948\n",
      "P = 8 -> 0.941\n",
      "P = 9 -> 0.941\n",
      "P = 10 -> 0.945\n"
     ]
    }
   ],
   "source": [
    "from sklearn import neighbors\n",
    "\n",
    "k=5\n",
    "rate = 0.8\n",
    "ps = [1, 2, 3, 4, 5, 6, 7, 8, 9, 10]\n",
    "scores_p = []\n",
    "\n",
    "for p in ps:\n",
    "    xtrain, xtest, ytrain, ytest = model_selection.train_test_split(\n",
    "        data, target, train_size=rate\n",
    "    )\n",
    "\n",
    "    clf = neighbors.KNeighborsClassifier(k, p=p)\n",
    "    clf.fit(xtrain, ytrain)\n",
    "    \n",
    "    score = clf.score(xtest, ytest)\n",
    "\n",
    "    print(\"P = \" + str(p) + \" -> \" + str(score))\n",
    "    scores_p.append(score)    "
   ]
  },
  {
   "cell_type": "code",
   "execution_count": 106,
   "metadata": {},
   "outputs": [
    {
     "data": {
      "text/plain": [
       "Text(0.5, 1.0, 'Score pour différentes valeurs de p(k=5)')"
      ]
     },
     "execution_count": 106,
     "metadata": {},
     "output_type": "execute_result"
    },
    {
     "data": {
      "image/png": "[encoded data removed]",
      "text/plain": [
       "<Figure size 432x288 with 1 Axes>"
      ]
     },
     "metadata": {
      "needs_background": "light"
     },
     "output_type": "display_data"
    }
   ],
   "source": [
    "plt.plot([x for x in ps], scores_p)\n",
    "\n",
    "plt.xlabel(\"Valeurs de P\")\n",
    "plt.ylabel(\"Precision\")\n",
    "plt.title(\"Score pour différentes valeurs de p(k=\" + str(k) +\")\")\n"
   ]
  },
  {
   "cell_type": "markdown",
   "metadata": {},
   "source": [
    "# Résultat\n",
    "\n",
    "Augmentation de la précision en augmentant la norme utilisée"
   ]
  }
 ],
 "metadata": {
  "kernelspec": {
   "display_name": "Python 3",
   "language": "python",
   "name": "python3"
  },
  "language_info": {
   "codemirror_mode": {
    "name": "ipython",
    "version": 3
   },
   "file_extension": ".py",
   "mimetype": "text/x-python",
   "name": "python",
   "nbconvert_exporter": "python",
   "pygments_lexer": "ipython3",
   "version": "3.7.4"
  },
  "latex_envs": {
   "LaTeX_envs_menu_present": true,
   "autoclose": false,
   "autocomplete": true,
   "bibliofile": "biblio.bib",
   "cite_by": "apalike",
   "current_citInitial": 1,
   "eqLabelWithNumbers": true,
   "eqNumInitial": 1,
   "hotkeys": {
    "equation": "Ctrl-E",
    "itemize": "Ctrl-I"
   },
   "labels_anchors": false,
   "latex_user_defs": false,
   "report_style_numbering": false,
   "user_envs_cfg": false
  }
 },
 "nbformat": 4,
 "nbformat_minor": 2
}
