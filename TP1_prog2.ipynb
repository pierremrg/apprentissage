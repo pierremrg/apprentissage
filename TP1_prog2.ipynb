{
 "cells": [
  {
   "cell_type": "code",
   "execution_count": 1,
   "metadata": {},
   "outputs": [],
   "source": [
    "from sklearn.datasets import fetch_openml\n",
    "\n",
    "mnist = fetch_openml('mnist_784')"
   ]
  },
  {
   "cell_type": "code",
   "execution_count": 47,
   "metadata": {},
   "outputs": [],
   "source": [
    "import numpy as np\n",
    "from sklearn import model_selection\n",
    "\n",
    "indexes = np.random.randint(70000, size=5000)\n",
    "\n",
    "data = mnist.data[indexes]\n",
    "#print(data.shape)\n",
    "target = mnist.target[indexes]\n",
    "\n",
    "xtrain, xtest, ytrain, ytest = model_selection.train_test_split(\n",
    "    data, target, train_size=0.8\n",
    ")\n"
   ]
  },
  {
   "cell_type": "code",
   "execution_count": 48,
   "metadata": {},
   "outputs": [],
   "source": [
    "from sklearn import neighbors\n",
    "\n",
    "k = 10\n",
    "\n",
    "clf = neighbors.KNeighborsClassifier(k)\n",
    "clf.fit(xtrain, ytrain)\n",
    "\n",
    "probas = clf.predict_proba(xtest)"
   ]
  },
  {
   "cell_type": "code",
   "execution_count": 49,
   "metadata": {},
   "outputs": [
    {
     "data": {
      "image/png": "[encoded data removed]",
      "text/plain": [
       "<Figure size 432x288 with 1 Axes>"
      ]
     },
     "metadata": {
      "needs_background": "light"
     },
     "output_type": "display_data"
    },
    {
     "name": "stdout",
     "output_type": "stream",
     "text": [
      "[0. 0. 0. 0. 0. 0. 1. 0. 0. 0.]\n"
     ]
    }
   ],
   "source": [
    "from sklearn import datasets\n",
    "import matplotlib.pyplot as plt\n",
    "\n",
    "itest = 4\n",
    "\n",
    "images = data.reshape((-1, 28, 28))\n",
    "plt.imshow(images[itest],cmap=plt.cm.gray_r,interpolation=\"nearest\")\n",
    "plt.show()\n",
    "\n",
    "print(probas[itest])"
   ]
  },
  {
   "cell_type": "code",
   "execution_count": 50,
   "metadata": {},
   "outputs": [],
   "source": [
    "#clf.score(xtest, ytest)\n",
    "found_classes = clf.predict(xtest)"
   ]
  },
  {
   "cell_type": "code",
   "execution_count": 54,
   "metadata": {},
   "outputs": [
    {
     "name": "stdout",
     "output_type": "stream",
     "text": [
      "Classe : 2 / Attendu 2 OK\n",
      "Classe : 0 / Attendu 0 OK\n",
      "Classe : 1 / Attendu 1 OK\n",
      "Classe : 5 / Attendu 6\n",
      "Classe : 9 / Attendu 9 OK\n",
      "Classe : 2 / Attendu 0\n",
      "Classe : 9 / Attendu 9 OK\n",
      "Classe : 0 / Attendu 0 OK\n",
      "Classe : 1 / Attendu 1 OK\n",
      "Classe : 3 / Attendu 3 OK\n",
      "Classe : 1 / Attendu 1 OK\n",
      "Classe : 5 / Attendu 3\n",
      "Classe : 7 / Attendu 7 OK\n",
      "Classe : 1 / Attendu 1 OK\n",
      "Classe : 3 / Attendu 3 OK\n",
      "Classe : 7 / Attendu 7 OK\n",
      "Classe : 1 / Attendu 1 OK\n",
      "Classe : 5 / Attendu 5 OK\n",
      "Classe : 2 / Attendu 2 OK\n"
     ]
    }
   ],
   "source": [
    "for itest in range(1,20):\n",
    "    #itest = 4\n",
    "    \n",
    "    res =  \" OK\" if ytest[itest] == found_classes[itest] else \"\"\n",
    "\n",
    "    print(\"Classe : \" + ytest[itest] + \" / Attendu \" + found_classes[itest] + res)"
   ]
  },
  {
   "cell_type": "code",
   "execution_count": 7,
   "metadata": {},
   "outputs": [
    {
     "name": "stdout",
     "output_type": "stream",
     "text": [
      "..........0.9186000000000001\n",
      "..........0.9282\n",
      "..........0.9266\n",
      "..........0.9272000000000001\n",
      "..........0.9244\n",
      "..........0.9254\n",
      "..........0.925\n",
      "..........0.9196000000000002\n",
      "..........0.9214000000000001\n",
      "..........0.92\n",
      "..........0.9196000000000001\n",
      "..........0.9172\n",
      "..........0.9158\n",
      "..........0.915\n"
     ]
    }
   ],
   "source": [
    "# BAD\n",
    "\n",
    "from sklearn.model_selection import KFold\n",
    "\n",
    "scores_k = [0 for i in range(0,16)]\n",
    "\n",
    "nb_splits = 10\n",
    "\n",
    "# k = Nombre de voisins à considérer\n",
    "for k in range(2,16):\n",
    "    clf = neighbors.KNeighborsClassifier(k)    \n",
    "    kf = KFold(n_splits=nb_splits, shuffle=True)\n",
    "\n",
    "    \n",
    "\n",
    "    for train_indexes, test_indexes in kf.split(data):\n",
    "        # Calcul des xtest/ytest/xtrain/ytrain\n",
    "        xtrain = data[train_indexes]\n",
    "        xtest = data[test_indexes]\n",
    "        ytrain = target[train_indexes]\n",
    "        ytest = target[test_indexes]\n",
    "    \n",
    "        clf.fit(xtrain, ytrain)\n",
    "        \n",
    "        print(\".\", end = '')\n",
    "        scores_k[k] += clf.score(xtest, ytest) / nb_splits\n",
    "        \n",
    "    \n",
    "    print(scores_k[k])"
   ]
  },
  {
   "cell_type": "code",
   "execution_count": 8,
   "metadata": {},
   "outputs": [
    {
     "name": "stdout",
     "output_type": "stream",
     "text": [
      "K = 2 -> 0.9142338658980848\n",
      "K = 3 -> 0.9235646679730338\n",
      "K = 4 -> 0.9228999749873437\n",
      "K = 5 -> 0.9273297360963346\n",
      "K = 6 -> 0.9244521517339214\n",
      "K = 7 -> 0.9244451517659888\n",
      "K = 8 -> 0.9224402049699654\n",
      "K = 9 -> 0.9246669032188292\n",
      "K = 10 -> 0.9215606647185763\n",
      "K = 11 -> 0.9186835117765769\n",
      "K = 12 -> 0.9184503895075327\n",
      "K = 13 -> 0.9151336978405611\n",
      "K = 14 -> 0.9142304835738984\n",
      "K = 15 -> 0.911570227757851\n"
     ]
    }
   ],
   "source": [
    "from sklearn.model_selection import cross_val_score\n",
    "import numpy as np\n",
    "\n",
    "scores_k2 = [0 for i in range(0,16)]\n",
    "\n",
    "nb_splits = 10\n",
    "\n",
    "# k = Nombre de voisins à considérer\n",
    "for k in range(2,16):\n",
    "    clf = neighbors.KNeighborsClassifier(k)\n",
    "    #clf.fit(xtrain, ytrain)\n",
    "    \n",
    "    score = np.mean(cross_val_score(clf, xtrain, ytrain, cv=10))\n",
    "\n",
    "    print(\"K = \" + str(k) + \" -> \" + str(score))\n",
    "    scores_k2[k] = score\n"
   ]
  },
  {
   "cell_type": "code",
   "execution_count": 9,
   "metadata": {},
   "outputs": [
    {
     "name": "stdout",
     "output_type": "stream",
     "text": [
      "[0, 0, 0.9186000000000001, 0.9282, 0.9266, 0.9272000000000001, 0.9244, 0.9254, 0.925, 0.9196000000000002, 0.9214000000000001, 0.92, 0.9196000000000001, 0.9172, 0.9158, 0.915]\n"
     ]
    },
    {
     "data": {
      "text/plain": [
       "Text(0.5, 1.0, 'Score pour différentes valeurs de k')"
      ]
     },
     "execution_count": 9,
     "metadata": {},
     "output_type": "execute_result"
    },
    {
     "data": {
      "image/png": "[encoded data removed]",
      "text/plain": [
       "<Figure size 432x288 with 1 Axes>"
      ]
     },
     "metadata": {
      "needs_background": "light"
     },
     "output_type": "display_data"
    }
   ],
   "source": [
    "print(scores_k)\n",
    "\n",
    "#plt.plot([x for x in range(2, 16)], scores_k[2:])\n",
    "plt.plot([x for x in range(2, 16)], scores_k2[2:])\n",
    "\n",
    "#plt.legend(['KFold', 'cross_val_score'], loc='upper right')\n",
    "plt.xlabel(\"k\")\n",
    "plt.ylabel(\"Precision\")\n",
    "plt.title(\"Score pour différentes valeurs de k\")\n",
    "\n",
    "#sklearn tsne"
   ]
  },
  {
   "cell_type": "markdown",
   "metadata": {
    "scrolled": false
   },
   "source": [
    "# Résultat\n",
    "\n",
    "Pour la suite, on prends la valeur k=5"
   ]
  },
  {
   "cell_type": "code",
   "execution_count": 10,
   "metadata": {},
   "outputs": [
    {
     "name": "stdout",
     "output_type": "stream",
     "text": [
      "Rate = 0.1 -> 0.8211111111111111\n",
      "Rate = 0.2 -> 0.8805\n",
      "Rate = 0.3 -> 0.8848571428571429\n",
      "Rate = 0.4 -> 0.9006666666666666\n",
      "Rate = 0.5 -> 0.9168\n",
      "Rate = 0.6 -> 0.9205\n",
      "Rate = 0.7 -> 0.926\n",
      "Rate = 0.8 -> 0.928\n",
      "Rate = 0.9 -> 0.926\n"
     ]
    }
   ],
   "source": [
    "from sklearn import neighbors\n",
    "\n",
    "k=5\n",
    "rates = [0.1, 0.2, 0.3, 0.4, 0.5, 0.6, 0.7, 0.8, 0.9]\n",
    "\n",
    "scores_rate = []\n",
    "for rate in rates:\n",
    "    xtrain, xtest, ytrain, ytest = model_selection.train_test_split(\n",
    "        data, target, train_size=rate\n",
    "    )\n",
    "\n",
    "    clf = neighbors.KNeighborsClassifier(k)\n",
    "    clf.fit(xtrain, ytrain)\n",
    "    \n",
    "    #print(str(len(ytrain)) + \" - - - \" + str(rate))\n",
    "    score = clf.score(xtest, ytest)\n",
    "    \n",
    "    #score = np.mean(cross_val_score(clf, xtest, ytest, cv=10))\n",
    "\n",
    "    print(\"Rate = \" + str(rate) + \" -> \" + str(score))\n",
    "    scores_rate.append(score)    "
   ]
  },
  {
   "cell_type": "code",
   "execution_count": 11,
   "metadata": {},
   "outputs": [
    {
     "data": {
      "text/plain": [
       "Text(0.5, 1.0, 'Score pour différents pourcentages consacrés au train(k=5)')"
      ]
     },
     "execution_count": 11,
     "metadata": {},
     "output_type": "execute_result"
    },
    {
     "data": {
      "image/png": "[encoded data removed]",
      "text/plain": [
       "<Figure size 432x288 with 1 Axes>"
      ]
     },
     "metadata": {
      "needs_background": "light"
     },
     "output_type": "display_data"
    }
   ],
   "source": [
    "plt.plot([x for x in rates], scores_rate)\n",
    "\n",
    "plt.xlabel(\"Pourcentage consacré au train\")\n",
    "plt.ylabel(\"Precision\")\n",
    "plt.title(\"Score pour différents pourcentages consacrés au train(k=\" + str(k) +\")\")\n"
   ]
  },
  {
   "cell_type": "markdown",
   "metadata": {},
   "source": [
    "# Résultat\n",
    "Plus on alloue de données à l'entrainement, plus l'algorithme est efficace pour la classification."
   ]
  },
  {
   "cell_type": "code",
   "execution_count": 12,
   "metadata": {},
   "outputs": [
    {
     "name": "stdout",
     "output_type": "stream",
     "text": [
      "Size = 200 -> 0.725\n",
      "Size = 400 -> 0.7625\n",
      "Size = 600 -> 0.85\n",
      "Size = 800 -> 0.85625\n",
      "Size = 1000 -> 0.845\n",
      "Size = 1200 -> 0.8625\n",
      "Size = 1400 -> 0.8535714285714285\n",
      "Size = 1600 -> 0.90625\n",
      "Size = 1800 -> 0.8805555555555555\n",
      "Size = 2000 -> 0.8725\n",
      "Size = 2200 -> 0.9318181818181818\n",
      "Size = 2400 -> 0.8916666666666667\n",
      "Size = 2600 -> 0.9\n",
      "Size = 2800 -> 0.9\n",
      "Size = 3000 -> 0.9066666666666666\n",
      "Size = 3200 -> 0.9078125\n",
      "Size = 3400 -> 0.9161764705882353\n",
      "Size = 3600 -> 0.9277777777777778\n",
      "Size = 3800 -> 0.9276315789473685\n",
      "Size = 4000 -> 0.92375\n",
      "Size = 4200 -> 0.9226190476190477\n",
      "Size = 4400 -> 0.9238636363636363\n",
      "Size = 4600 -> 0.9173913043478261\n",
      "Size = 4800 -> 0.9197916666666667\n",
      "Size = 5000 -> 0.923\n",
      "Size = 5200 -> 0.9394230769230769\n",
      "Size = 5400 -> 0.9203703703703704\n",
      "Size = 5600 -> 0.9178571428571428\n",
      "Size = 5800 -> 0.9336206896551724\n",
      "Size = 6000 -> 0.94\n",
      "Size = 6200 -> 0.9274193548387096\n",
      "Size = 6400 -> 0.92578125\n",
      "Size = 6600 -> 0.9356060606060606\n",
      "Size = 6800 -> 0.9397058823529412\n",
      "Size = 7000 -> 0.9328571428571428\n",
      "Size = 7200 -> 0.9465277777777777\n",
      "Size = 7400 -> 0.9398648648648649\n",
      "Size = 7600 -> 0.9302631578947368\n",
      "Size = 7800 -> 0.9384615384615385\n",
      "Size = 8000 -> 0.945\n",
      "Size = 8200 -> 0.9359756097560976\n",
      "Size = 8400 -> 0.9428571428571428\n",
      "Size = 8600 -> 0.9470930232558139\n",
      "Size = 8800 -> 0.9420454545454545\n",
      "Size = 9000 -> 0.9444444444444444\n",
      "Size = 9200 -> 0.9434782608695652\n",
      "Size = 9400 -> 0.9308510638297872\n",
      "Size = 9600 -> 0.9442708333333333\n",
      "Size = 9800 -> 0.9377551020408164\n",
      "Size = 10000 -> 0.9405\n"
     ]
    }
   ],
   "source": [
    "from sklearn import neighbors\n",
    "\n",
    "k=5\n",
    "rate=0.8\n",
    "\n",
    "# De 400 à 8000\n",
    "sizes = [200*i for i in range(1, 51)]\n",
    "\n",
    "scores_size = []\n",
    "for size in sizes:\n",
    "    \n",
    "    indexes2 = np.random.randint(70000, size=size)\n",
    "\n",
    "    data2 = mnist.data[indexes2]\n",
    "    target2 = mnist.target[indexes2]\n",
    "\n",
    "    xtrain, xtest, ytrain, ytest = model_selection.train_test_split(\n",
    "        data2, target2, train_size=rate\n",
    "    )\n",
    "\n",
    "    clf = neighbors.KNeighborsClassifier(k)\n",
    "    clf.fit(xtrain, ytrain)\n",
    "    \n",
    "    score = clf.score(xtest, ytest)\n",
    "\n",
    "    print(\"Size = \" + str(size) + \" -> \" + str(score))\n",
    "    scores_size.append(score)"
   ]
  },
  {
   "cell_type": "code",
   "execution_count": 13,
   "metadata": {},
   "outputs": [
    {
     "data": {
      "text/plain": [
       "Text(0.5, 1.0, \"Score pour différentes tailles d'échantillon\")"
      ]
     },
     "execution_count": 13,
     "metadata": {},
     "output_type": "execute_result"
    },
    {
     "data": {
      "image/png": "[encoded data removed]",
      "text/plain": [
       "<Figure size 432x288 with 1 Axes>"
      ]
     },
     "metadata": {
      "needs_background": "light"
     },
     "output_type": "display_data"
    }
   ],
   "source": [
    "plt.plot([x for x in sizes], scores_size)\n",
    "\n",
    "plt.xlabel(\"Taille de l'échantillon\")\n",
    "plt.ylabel(\"Precision\")\n",
    "plt.title(\"Score pour différentes tailles d'échantillon\")\n"
   ]
  },
  {
   "cell_type": "markdown",
   "metadata": {},
   "source": [
    "# Résultat\n",
    "Plus la taille de l'échantillon est importante, plus la précision de l'algorithme est grande."
   ]
  },
  {
   "cell_type": "code",
   "execution_count": 56,
   "metadata": {
    "slideshow": {
     "slide_type": "subslide"
    }
   },
   "outputs": [
    {
     "name": "stdout",
     "output_type": "stream",
     "text": [
      "P = 1 -> 0.927\n",
      "P = 2 -> 0.953\n",
      "P = 3 -> 0.94\n",
      "P = 4 -> 0.936\n",
      "P = 5 -> 0.941\n",
      "P = 6 -> 0.94\n",
      "P = 7 -> 0.944\n",
      "P = 8 -> 0.934\n",
      "P = 9 -> 0.932\n",
      "P = 10 -> 0.936\n",
      "P = 11 -> 0.956\n",
      "P = 12 -> 0.935\n",
      "P = 13 -> 0.937\n",
      "P = 14 -> 0.936\n",
      "P = 15 -> 0.945\n",
      "P = 16 -> 0.927\n",
      "P = 17 -> 0.934\n",
      "P = 18 -> 0.952\n",
      "P = 19 -> 0.941\n"
     ]
    }
   ],
   "source": [
    "from sklearn import neighbors\n",
    "\n",
    "k=5\n",
    "rate = 0.8\n",
    "ps = [1, 2, 3, 4, 5, 6, 7, 8, 9, 10, 11, 12, 13, 14, 15, 16, 17, 18, 19]\n",
    "scores_p = []\n",
    "\n",
    "for p in ps:\n",
    "    xtrain, xtest, ytrain, ytest = model_selection.train_test_split(\n",
    "        data, target, train_size=rate\n",
    "    )\n",
    "\n",
    "    clf = neighbors.KNeighborsClassifier(k, p=p, n_jobs=-1)\n",
    "    clf.fit(xtrain, ytrain)\n",
    "    \n",
    "    score = clf.score(xtest, ytest)\n",
    "\n",
    "    print(\"P = \" + str(p) + \" -> \" + str(score))\n",
    "    scores_p.append(score)    "
   ]
  },
  {
   "cell_type": "code",
   "execution_count": 57,
   "metadata": {},
   "outputs": [
    {
     "data": {
      "text/plain": [
       "Text(0.5, 1.0, 'Score pour différentes valeurs de p(k=5)')"
      ]
     },
     "execution_count": 57,
     "metadata": {},
     "output_type": "execute_result"
    },
    {
     "data": {
      "image/png": "[encoded data removed]",
      "text/plain": [
       "<Figure size 432x288 with 1 Axes>"
      ]
     },
     "metadata": {
      "needs_background": "light"
     },
     "output_type": "display_data"
    }
   ],
   "source": [
    "plt.plot([x for x in ps], scores_p)\n",
    "\n",
    "plt.xlabel(\"Valeurs de P\")\n",
    "plt.ylabel(\"Precision\")\n",
    "plt.title(\"Score pour différentes valeurs de p(k=\" + str(k) +\")\")\n"
   ]
  },
  {
   "cell_type": "markdown",
   "metadata": {},
   "source": [
    "# Résultat\n",
    "\n",
    "Augmentation de la précision en augmentant la norme utilisée"
   ]
  },
  {
   "cell_type": "code",
   "execution_count": 16,
   "metadata": {},
   "outputs": [
    {
     "name": "stdout",
     "output_type": "stream",
     "text": [
      "n_jobs = 1 -> 0.932 time : 51.67013597488403\n",
      "n_jobs = -1 -> 0.932 time : 8.853404760360718\n"
     ]
    }
   ],
   "source": [
    "from sklearn import neighbors\n",
    "import time\n",
    "\n",
    "\n",
    "k=5\n",
    "rate = 0.8\n",
    "p = 7\n",
    "\n",
    "xtrain, xtest, ytrain, ytest = model_selection.train_test_split(\n",
    "    data, target, train_size=rate\n",
    ")\n",
    "\n",
    "# Mesure avec n_jobs = 1\n",
    "start_time = time.time()\n",
    "clf = neighbors.KNeighborsClassifier(k, p=p, n_jobs = 1)\n",
    "clf.fit(xtrain, ytrain)\n",
    "score = clf.score(xtest, ytest)\n",
    "end_time = time.time()\n",
    "\n",
    "print(\"n_jobs = 1 -> \" + str(score) + \" time : \" + str(end_time - start_time))\n",
    "\n",
    "\n",
    "# Mesure avec n_jobs = -1\n",
    "start_time = time.time()\n",
    "clf = neighbors.KNeighborsClassifier(k, p=p, n_jobs = -1)\n",
    "clf.fit(xtrain, ytrain)\n",
    "score = clf.score(xtest, ytest)\n",
    "end_time = time.time()\n",
    "\n",
    "print(\"n_jobs = -1 -> \" + str(score) + \" time : \" + str(end_time - start_time))\n"
   ]
  }
 ],
 "metadata": {
  "kernelspec": {
   "display_name": "Python 3",
   "language": "python",
   "name": "python3"
  },
  "language_info": {
   "codemirror_mode": {
    "name": "ipython",
    "version": 3
   },
   "file_extension": ".py",
   "mimetype": "text/x-python",
   "name": "python",
   "nbconvert_exporter": "python",
   "pygments_lexer": "ipython3",
   "version": "3.7.4"
  },
  "latex_envs": {
   "LaTeX_envs_menu_present": true,
   "autoclose": false,
   "autocomplete": true,
   "bibliofile": "biblio.bib",
   "cite_by": "apalike",
   "current_citInitial": 1,
   "eqLabelWithNumbers": true,
   "eqNumInitial": 1,
   "hotkeys": {
    "equation": "Ctrl-E",
    "itemize": "Ctrl-I"
   },
   "labels_anchors": false,
   "latex_user_defs": false,
   "report_style_numbering": false,
   "user_envs_cfg": false
  }
 },
 "nbformat": 4,
 "nbformat_minor": 2
}
