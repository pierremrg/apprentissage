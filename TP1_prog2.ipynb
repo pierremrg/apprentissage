{
 "cells": [
  {
   "cell_type": "code",
   "execution_count": 1,
   "metadata": {},
   "outputs": [],
   "source": [
    "from sklearn.datasets import fetch_openml\n",
    "\n",
    "mnist = fetch_openml('mnist_784')"
   ]
  },
  {
   "cell_type": "code",
   "execution_count": 46,
   "metadata": {},
   "outputs": [],
   "source": [
    "import numpy as np\n",
    "from sklearn import model_selection\n",
    "\n",
    "indexes = np.random.randint(70000, size=1000)\n",
    "\n",
    "data = mnist.data[indexes]\n",
    "#print(data.shape)\n",
    "target = mnist.target[indexes]\n",
    "\n",
    "xtrain, xtest, ytrain, ytest = model_selection.train_test_split(\n",
    "    data, target, train_size=0.8\n",
    ")\n"
   ]
  },
  {
   "cell_type": "code",
   "execution_count": 3,
   "metadata": {},
   "outputs": [],
   "source": [
    "from sklearn import neighbors\n",
    "\n",
    "k = 10\n",
    "\n",
    "clf = neighbors.KNeighborsClassifier(k)\n",
    "clf.fit(xtrain, ytrain)\n",
    "\n",
    "probas = clf.predict_proba(xtest)"
   ]
  },
  {
   "cell_type": "code",
   "execution_count": 4,
   "metadata": {},
   "outputs": [
    {
     "data": {
      "text/plain": [
       "<Figure size 640x480 with 1 Axes>"
      ]
     },
     "metadata": {},
     "output_type": "display_data"
    },
    {
     "name": "stdout",
     "output_type": "stream",
     "text": [
      "[0.  0.  0.  0.  0.  0.  0.  0.9 0.  0.1]\n"
     ]
    }
   ],
   "source": [
    "from sklearn import datasets\n",
    "import matplotlib.pyplot as plt\n",
    "\n",
    "itest = 4\n",
    "\n",
    "images = data.reshape((-1, 28, 28))\n",
    "plt.imshow(images[itest],cmap=plt.cm.gray_r,interpolation=\"nearest\")\n",
    "plt.show()\n",
    "\n",
    "print(probas[itest])"
   ]
  },
  {
   "cell_type": "code",
   "execution_count": 5,
   "metadata": {},
   "outputs": [],
   "source": [
    "#clf.score(xtest, ytest)\n",
    "found_classes = clf.predict(xtest)"
   ]
  },
  {
   "cell_type": "code",
   "execution_count": 6,
   "metadata": {},
   "outputs": [
    {
     "name": "stdout",
     "output_type": "stream",
     "text": [
      "Classe : 6 / 6 OK\n",
      "Classe : 6 / 6 OK\n",
      "Classe : 4 / 4 OK\n",
      "Classe : 7 / 7 OK\n",
      "Classe : 6 / 6 OK\n",
      "Classe : 4 / 4 OK\n",
      "Classe : 4 / 4 OK\n",
      "Classe : 3 / 3 OK\n",
      "Classe : 4 / 4 OK\n",
      "Classe : 3 / 3 OK\n",
      "Classe : 3 / 3 OK\n",
      "Classe : 3 / 3 OK\n",
      "Classe : 4 / 9\n",
      "Classe : 9 / 9 OK\n",
      "Classe : 8 / 3\n",
      "Classe : 5 / 5 OK\n",
      "Classe : 1 / 1 OK\n",
      "Classe : 0 / 0 OK\n",
      "Classe : 4 / 4 OK\n"
     ]
    }
   ],
   "source": [
    "for itest in range(1,20):\n",
    "    #itest = 4\n",
    "    \n",
    "    res =  \" OK\" if ytest[itest] == found_classes[itest] else \"\"\n",
    "\n",
    "    print(\"Classe : \" + ytest[itest] + \" / \" + found_classes[itest] + res)"
   ]
  },
  {
   "cell_type": "code",
   "execution_count": 7,
   "metadata": {},
   "outputs": [
    {
     "name": "stdout",
     "output_type": "stream",
     "text": [
      "..........0.9214\n",
      "..........0.9334\n",
      "..........0.9288000000000001\n",
      "..........0.9328000000000001\n",
      "..........0.9288\n",
      "..........0.9242\n",
      "..........0.9249999999999999\n",
      "..........0.9274\n",
      "..........0.9211999999999999\n",
      "..........0.9216\n",
      "..........0.9206\n",
      "..........0.9154\n",
      "..........0.9136\n",
      "..........0.9156000000000001\n"
     ]
    }
   ],
   "source": [
    "# BAD\n",
    "\n",
    "from sklearn.model_selection import KFold\n",
    "\n",
    "scores_k = [0 for i in range(0,16)]\n",
    "\n",
    "nb_splits = 10\n",
    "\n",
    "# k = Nombre de voisins à considérer\n",
    "for k in range(2,16):\n",
    "    clf = neighbors.KNeighborsClassifier(k)    \n",
    "    kf = KFold(n_splits=nb_splits, shuffle=True)\n",
    "\n",
    "    \n",
    "\n",
    "    for train_indexes, test_indexes in kf.split(data):\n",
    "        # Calcul des xtest/ytest/xtrain/ytrain\n",
    "        xtrain = data[train_indexes]\n",
    "        xtest = data[test_indexes]\n",
    "        ytrain = target[train_indexes]\n",
    "        ytest = target[test_indexes]\n",
    "    \n",
    "        clf.fit(xtrain, ytrain)\n",
    "        \n",
    "        print(\".\", end = '')\n",
    "        scores_k[k] += clf.score(xtest, ytest) / nb_splits\n",
    "        \n",
    "    \n",
    "    print(scores_k[k])"
   ]
  },
  {
   "cell_type": "code",
   "execution_count": 23,
   "metadata": {},
   "outputs": [
    {
     "name": "stdout",
     "output_type": "stream",
     "text": [
      "K = 2 -> 0.916877546651403\n",
      "K = 3 -> 0.9277556099686157\n",
      "K = 4 -> 0.9264634160137637\n",
      "K = 5 -> 0.9290913722184866\n",
      "K = 6 -> 0.9266685080303665\n",
      "K = 7 -> 0.9282261641036813\n",
      "K = 8 -> 0.9242347194876575\n",
      "K = 9 -> 0.9244589033810291\n",
      "K = 10 -> 0.9237849785557692\n",
      "K = 11 -> 0.921558996547651\n",
      "K = 12 -> 0.9182166996658638\n",
      "K = 13 -> 0.9159957691965088\n",
      "K = 14 -> 0.9142208059217346\n",
      "K = 15 -> 0.9155468437182226\n"
     ]
    }
   ],
   "source": [
    "from sklearn.model_selection import cross_val_score\n",
    "import numpy as np\n",
    "\n",
    "scores_k2 = [0 for i in range(0,16)]\n",
    "\n",
    "nb_splits = 10\n",
    "\n",
    "# k = Nombre de voisins à considérer\n",
    "for k in range(2,16):\n",
    "    clf = neighbors.KNeighborsClassifier(k)\n",
    "    #clf.fit(xtrain, ytrain)\n",
    "    \n",
    "    score = np.mean(cross_val_score(clf, xtrain, ytrain, cv=10))\n",
    "\n",
    "    print(\"K = \" + str(k) + \" -> \" + str(score))\n",
    "    scores_k2[k] = score\n"
   ]
  },
  {
   "cell_type": "code",
   "execution_count": 24,
   "metadata": {},
   "outputs": [
    {
     "name": "stdout",
     "output_type": "stream",
     "text": [
      "[0, 0, 0.9214, 0.9334, 0.9288000000000001, 0.9328000000000001, 0.9288, 0.9242, 0.9249999999999999, 0.9274, 0.9211999999999999, 0.9216, 0.9206, 0.9154, 0.9136, 0.9156000000000001]\n"
     ]
    },
    {
     "data": {
      "text/plain": [
       "Text(0.5, 1.0, 'Score pour différentes valeurs de k')"
      ]
     },
     "execution_count": 24,
     "metadata": {},
     "output_type": "execute_result"
    },
    {
     "data": {
      "image/png": "[encoded data removed]",
      "text/plain": [
       "<Figure size 432x288 with 1 Axes>"
      ]
     },
     "metadata": {
      "needs_background": "light"
     },
     "output_type": "display_data"
    }
   ],
   "source": [
    "print(scores_k)\n",
    "\n",
    "#plt.plot([x for x in range(2, 16)], scores_k[2:])\n",
    "plt.plot([x for x in range(2, 16)], scores_k2[2:])\n",
    "\n",
    "#plt.legend(['KFold', 'cross_val_score'], loc='upper right')\n",
    "plt.xlabel(\"k\")\n",
    "plt.ylabel(\"Precision\")\n",
    "plt.title(\"Score pour différentes valeurs de k\")\n",
    "\n",
    "#sklearn tsne"
   ]
  },
  {
   "cell_type": "markdown",
   "metadata": {
    "scrolled": false
   },
   "source": [
    "# Résultat\n",
    "\n",
    "Pour la suite, on prends la valeur k=5"
   ]
  },
  {
   "cell_type": "code",
   "execution_count": 25,
   "metadata": {},
   "outputs": [
    {
     "name": "stdout",
     "output_type": "stream",
     "text": [
      "Rate = 0.1 -> 0.8308888888888889\n",
      "Rate = 0.2 -> 0.8715\n",
      "Rate = 0.3 -> 0.8891428571428571\n",
      "Rate = 0.4 -> 0.912\n",
      "Rate = 0.5 -> 0.9188\n",
      "Rate = 0.6 -> 0.9195\n",
      "Rate = 0.7 -> 0.922\n",
      "Rate = 0.8 -> 0.932\n",
      "Rate = 0.9 -> 0.932\n"
     ]
    }
   ],
   "source": [
    "from sklearn import neighbors\n",
    "\n",
    "k=5\n",
    "rates = [0.1, 0.2, 0.3, 0.4, 0.5, 0.6, 0.7, 0.8, 0.9]\n",
    "\n",
    "scores_rate = []\n",
    "for rate in rates:\n",
    "    xtrain, xtest, ytrain, ytest = model_selection.train_test_split(\n",
    "        data, target, train_size=rate\n",
    "    )\n",
    "\n",
    "    clf = neighbors.KNeighborsClassifier(k)\n",
    "    clf.fit(xtrain, ytrain)\n",
    "    \n",
    "    #print(str(len(ytrain)) + \" - - - \" + str(rate))\n",
    "    score = clf.score(xtest, ytest)\n",
    "    \n",
    "    #score = np.mean(cross_val_score(clf, xtest, ytest, cv=10))\n",
    "\n",
    "    print(\"Rate = \" + str(rate) + \" -> \" + str(score))\n",
    "    scores_rate.append(score)    "
   ]
  },
  {
   "cell_type": "code",
   "execution_count": 26,
   "metadata": {},
   "outputs": [
    {
     "data": {
      "text/plain": [
       "Text(0.5, 1.0, 'Score pour différents pourcentages consacrés au train(k=5)')"
      ]
     },
     "execution_count": 26,
     "metadata": {},
     "output_type": "execute_result"
    },
    {
     "data": {
      "image/png": "[encoded data removed]",
      "text/plain": [
       "<Figure size 432x288 with 1 Axes>"
      ]
     },
     "metadata": {
      "needs_background": "light"
     },
     "output_type": "display_data"
    }
   ],
   "source": [
    "plt.plot([x for x in rates], scores_rate)\n",
    "\n",
    "plt.xlabel(\"Pourcentage consacré au train\")\n",
    "plt.ylabel(\"Precision\")\n",
    "plt.title(\"Score pour différents pourcentages consacrés au train(k=\" + str(k) +\")\")\n"
   ]
  },
  {
   "cell_type": "markdown",
   "metadata": {},
   "source": [
    "# Résultat\n",
    "Plus on alloue de données à l'entrainement, plus l'algorithme est efficace pour la classification."
   ]
  },
  {
   "cell_type": "code",
   "execution_count": 36,
   "metadata": {},
   "outputs": [
    {
     "name": "stdout",
     "output_type": "stream",
     "text": [
      "Size = 200 -> 0.6\n",
      "Size = 400 -> 0.775\n",
      "Size = 600 -> 0.825\n",
      "Size = 800 -> 0.85\n",
      "Size = 1000 -> 0.9\n",
      "Size = 1200 -> 0.8625\n",
      "Size = 1400 -> 0.8857142857142857\n",
      "Size = 1600 -> 0.88125\n",
      "Size = 1800 -> 0.925\n",
      "Size = 2000 -> 0.8975\n",
      "Size = 2200 -> 0.8931818181818182\n",
      "Size = 2400 -> 0.8979166666666667\n",
      "Size = 2600 -> 0.9038461538461539\n",
      "Size = 2800 -> 0.9232142857142858\n",
      "Size = 3000 -> 0.9083333333333333\n",
      "Size = 3200 -> 0.9125\n",
      "Size = 3400 -> 0.8955882352941177\n",
      "Size = 3600 -> 0.9111111111111111\n",
      "Size = 3800 -> 0.9355263157894737\n",
      "Size = 4000 -> 0.9225\n",
      "Size = 4200 -> 0.9214285714285714\n",
      "Size = 4400 -> 0.9125\n",
      "Size = 4600 -> 0.9184782608695652\n",
      "Size = 4800 -> 0.9114583333333334\n",
      "Size = 5000 -> 0.925\n",
      "Size = 5200 -> 0.9346153846153846\n",
      "Size = 5400 -> 0.9296296296296296\n",
      "Size = 5600 -> 0.9392857142857143\n",
      "Size = 5800 -> 0.9267241379310345\n",
      "Size = 6000 -> 0.9166666666666666\n",
      "Size = 6200 -> 0.9451612903225807\n",
      "Size = 6400 -> 0.9265625\n",
      "Size = 6600 -> 0.9409090909090909\n",
      "Size = 6800 -> 0.9367647058823529\n",
      "Size = 7000 -> 0.94\n",
      "Size = 7200 -> 0.9416666666666667\n",
      "Size = 7400 -> 0.947972972972973\n",
      "Size = 7600 -> 0.9328947368421052\n",
      "Size = 7800 -> 0.9288461538461539\n",
      "Size = 8000 -> 0.930625\n",
      "Size = 8200 -> 0.9365853658536586\n",
      "Size = 8400 -> 0.9380952380952381\n",
      "Size = 8600 -> 0.9424418604651162\n",
      "Size = 8800 -> 0.9357954545454545\n",
      "Size = 9000 -> 0.9505555555555556\n",
      "Size = 9200 -> 0.9391304347826087\n",
      "Size = 9400 -> 0.9377659574468085\n",
      "Size = 9600 -> 0.934375\n",
      "Size = 9800 -> 0.9474489795918367\n",
      "Size = 10000 -> 0.947\n"
     ]
    }
   ],
   "source": [
    "from sklearn import neighbors\n",
    "\n",
    "k=5\n",
    "rate=0.8\n",
    "\n",
    "# De 400 à 8000\n",
    "sizes = [200*i for i in range(1, 51)]\n",
    "\n",
    "scores_size = []\n",
    "for size in sizes:\n",
    "    \n",
    "    indexes2 = np.random.randint(70000, size=size)\n",
    "\n",
    "    data2 = mnist.data[indexes2]\n",
    "    target2 = mnist.target[indexes2]\n",
    "\n",
    "    xtrain, xtest, ytrain, ytest = model_selection.train_test_split(\n",
    "        data2, target2, train_size=rate\n",
    "    )\n",
    "\n",
    "    clf = neighbors.KNeighborsClassifier(k)\n",
    "    clf.fit(xtrain, ytrain)\n",
    "    \n",
    "    score = clf.score(xtest, ytest)\n",
    "\n",
    "    print(\"Size = \" + str(size) + \" -> \" + str(score))\n",
    "    scores_size.append(score)"
   ]
  },
  {
   "cell_type": "code",
   "execution_count": 37,
   "metadata": {},
   "outputs": [
    {
     "data": {
      "text/plain": [
       "Text(0.5, 1.0, \"Score pour différentes tailles d'échantillon\")"
      ]
     },
     "execution_count": 37,
     "metadata": {},
     "output_type": "execute_result"
    },
    {
     "data": {
      "image/png": "[encoded data removed]",
      "text/plain": [
       "<Figure size 432x288 with 1 Axes>"
      ]
     },
     "metadata": {
      "needs_background": "light"
     },
     "output_type": "display_data"
    }
   ],
   "source": [
    "plt.plot([x for x in sizes], scores_size)\n",
    "\n",
    "plt.xlabel(\"Taille de l'échantillon\")\n",
    "plt.ylabel(\"Precision\")\n",
    "plt.title(\"Score pour différentes tailles d'échantillon\")\n"
   ]
  },
  {
   "cell_type": "markdown",
   "metadata": {},
   "source": [
    "# Résultat\n",
    "Plus la taille de l'échantillon est importante, plus la précision de l'algorithme est grande."
   ]
  },
  {
   "cell_type": "code",
   "execution_count": 47,
   "metadata": {
    "slideshow": {
     "slide_type": "subslide"
    }
   },
   "outputs": [
    {
     "name": "stdout",
     "output_type": "stream",
     "text": [
      "P = 1 -> 0.835\n",
      "P = 2 -> 0.85\n",
      "P = 3 -> 0.86\n",
      "P = 4 -> 0.865\n",
      "P = 5 -> 0.84\n",
      "P = 6 -> 0.82\n",
      "P = 7 -> 0.88\n",
      "P = 8 -> 0.845\n",
      "P = 9 -> 0.835\n",
      "P = 10 -> 0.845\n"
     ]
    }
   ],
   "source": [
    "from sklearn import neighbors\n",
    "\n",
    "k=5\n",
    "rate = 0.8\n",
    "ps = [1, 2, 3, 4, 5, 6, 7, 8, 9, 10]\n",
    "scores_p = []\n",
    "\n",
    "for p in ps:\n",
    "    xtrain, xtest, ytrain, ytest = model_selection.train_test_split(\n",
    "        data, target, train_size=rate\n",
    "    )\n",
    "\n",
    "    clf = neighbors.KNeighborsClassifier(k, p=p)\n",
    "    clf.fit(xtrain, ytrain)\n",
    "    \n",
    "    score = clf.score(xtest, ytest)\n",
    "\n",
    "    print(\"P = \" + str(p) + \" -> \" + str(score))\n",
    "    scores_p.append(score)    "
   ]
  },
  {
   "cell_type": "code",
   "execution_count": 48,
   "metadata": {},
   "outputs": [
    {
     "data": {
      "text/plain": [
       "Text(0.5, 1.0, 'Score pour différentes valeurs de p(k=5)')"
      ]
     },
     "execution_count": 48,
     "metadata": {},
     "output_type": "execute_result"
    },
    {
     "data": {
      "image/png": "[encoded data removed]",
      "text/plain": [
       "<Figure size 432x288 with 1 Axes>"
      ]
     },
     "metadata": {
      "needs_background": "light"
     },
     "output_type": "display_data"
    }
   ],
   "source": [
    "plt.plot([x for x in ps], scores_p)\n",
    "\n",
    "plt.xlabel(\"Valeurs de P\")\n",
    "plt.ylabel(\"Precision\")\n",
    "plt.title(\"Score pour différentes valeurs de p(k=\" + str(k) +\")\")\n"
   ]
  },
  {
   "cell_type": "markdown",
   "metadata": {},
   "source": [
    "# Résultat\n",
    "\n",
    "Augmentation de la précision en augmentant la norme utilisée"
   ]
  }
 ],
 "metadata": {
  "kernelspec": {
   "display_name": "Python 3",
   "language": "python",
   "name": "python3"
  },
  "language_info": {
   "codemirror_mode": {
    "name": "ipython",
    "version": 3
   },
   "file_extension": ".py",
   "mimetype": "text/x-python",
   "name": "python",
   "nbconvert_exporter": "python",
   "pygments_lexer": "ipython3",
   "version": "3.7.3"
  },
  "latex_envs": {
   "LaTeX_envs_menu_present": true,
   "autoclose": false,
   "autocomplete": true,
   "bibliofile": "biblio.bib",
   "cite_by": "apalike",
   "current_citInitial": 1,
   "eqLabelWithNumbers": true,
   "eqNumInitial": 1,
   "hotkeys": {
    "equation": "Ctrl-E",
    "itemize": "Ctrl-I"
   },
   "labels_anchors": false,
   "latex_user_defs": false,
   "report_style_numbering": false,
   "user_envs_cfg": false
  }
 },
 "nbformat": 4,
 "nbformat_minor": 2
}
