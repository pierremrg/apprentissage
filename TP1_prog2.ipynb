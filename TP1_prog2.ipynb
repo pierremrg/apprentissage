{
 "cells": [
  {
   "cell_type": "code",
   "execution_count": null,
   "metadata": {},
   "outputs": [],
   "source": [
    "from sklearn.datasets import fetch_openml\n",
    "\n",
    "mnist = fetch_openml('mnist_784')"
   ]
  },
  {
   "cell_type": "code",
   "execution_count": null,
   "metadata": {},
   "outputs": [],
   "source": [
    "import numpy as np\n",
    "from sklearn import model_selection\n",
    "\n",
    "indexes = np.random.randint(70000, size=7000)\n",
    "\n",
    "data = mnist.data[indexes]\n",
    "#print(data.shape)\n",
    "target = mnist.target[indexes]\n",
    "\n",
    "xtrain, xtest, ytrain, ytest = model_selection.train_test_split(\n",
    "    data, target, train_size=0.8\n",
    ")\n"
   ]
  },
  {
   "cell_type": "code",
   "execution_count": null,
   "metadata": {},
   "outputs": [],
   "source": [
    "from sklearn import neighbors\n",
    "\n",
    "k = 10\n",
    "\n",
    "clf = neighbors.KNeighborsClassifier(k)\n",
    "clf.fit(xtrain, ytrain)\n",
    "\n",
    "probas = clf.predict_proba(xtest)"
   ]
  },
  {
   "cell_type": "code",
   "execution_count": null,
   "metadata": {},
   "outputs": [],
   "source": [
    "from sklearn import datasets\n",
    "import matplotlib.pyplot as plt\n",
    "\n",
    "itest = 4\n",
    "\n",
    "images = data.reshape((-1, 28, 28))\n",
    "plt.imshow(images[itest],cmap=plt.cm.gray_r,interpolation=\"nearest\")\n",
    "plt.show()\n",
    "\n",
    "print(probas[itest])"
   ]
  },
  {
   "cell_type": "code",
   "execution_count": null,
   "metadata": {},
   "outputs": [],
   "source": [
    "#clf.score(xtest, ytest)\n",
    "found_classes = clf.predict(xtest)"
   ]
  },
  {
   "cell_type": "code",
   "execution_count": null,
   "metadata": {},
   "outputs": [],
   "source": [
    "for itest in range(1,20):\n",
    "    #itest = 4\n",
    "    \n",
    "    res =  \" OK\" if ytest[itest] == found_classes[itest] else \"\"\n",
    "\n",
    "    print(\"Classe : \" + ytest[itest] + \" / Attendu \" + found_classes[itest] + res)"
   ]
  },
  {
   "cell_type": "code",
   "execution_count": null,
   "metadata": {},
   "outputs": [],
   "source": [
    "# BAD\n",
    "\"\"\"\n",
    "from sklearn.model_selection import KFold\n",
    "\n",
    "scores_k = [0 for i in range(0,16)]\n",
    "\n",
    "nb_splits = 10\n",
    "\n",
    "# k = Nombre de voisins à considérer\n",
    "for k in range(2,16):\n",
    "    clf = neighbors.KNeighborsClassifier(k)    \n",
    "    kf = KFold(n_splits=nb_splits, shuffle=True)\n",
    "\n",
    "    \n",
    "\n",
    "    for train_indexes, test_indexes in kf.split(data):\n",
    "        # Calcul des xtest/ytest/xtrain/ytrain\n",
    "        xtrain = data[train_indexes]\n",
    "        xtest = data[test_indexes]\n",
    "        ytrain = target[train_indexes]\n",
    "        ytest = target[test_indexes]\n",
    "    \n",
    "        clf.fit(xtrain, ytrain)\n",
    "        \n",
    "        print(\".\", end = '')\n",
    "        scores_k[k] += clf.score(xtest, ytest) / nb_splits\n",
    "        \n",
    "    \n",
    "    print(scores_k[k])\n",
    "\"\"\""
   ]
  },
  {
   "cell_type": "code",
   "execution_count": null,
   "metadata": {},
   "outputs": [],
   "source": [
    "from sklearn.model_selection import cross_val_score\n",
    "import numpy as np\n",
    "import time\n",
    "\n",
    "scores_k2 = [0 for i in range(0,16)]\n",
    "times_train_k = [0 for i in range(0,16)]\n",
    "times_score_k = [0 for i in range(0,16)]\n",
    "\n",
    "\n",
    "nb_splits = 10\n",
    "\n",
    "# k = Nombre de voisins à considérer\n",
    "for k in range(2,16):\n",
    "    clf = neighbors.KNeighborsClassifier(k, n_jobs=-1)\n",
    "    start_time = time.process_time()\n",
    "    clf.fit(xtrain, ytrain)\n",
    "    times_train_k[k] = (time.process_time() - start_time)\n",
    "    \n",
    "    start_time = time.process_time()\n",
    "    score = np.mean(cross_val_score(clf, xtrain, ytrain, cv=10))\n",
    "    times_score_k[k] = (time.process_time() - start_time)\n",
    "    \n",
    "    print(\"K = \" + str(k) + \" -> \" + str(score))\n",
    "    scores_k2[k] = score\n"
   ]
  },
  {
   "cell_type": "code",
   "execution_count": null,
   "metadata": {},
   "outputs": [],
   "source": [
    "\n",
    "plt.plot([x for x in range(0, 16)], times_train_k)\n",
    "plt.plot([x for x in range(0, 16)], times_score_k)\n",
    "\n",
    "print(times_score_k)\n",
    "\n",
    "plt.legend(['Temps d\\'entrainement', 'Temps de prédiction'], loc='best')\n",
    "plt.xlabel(\"k\")\n",
    "plt.ylabel(\"Temps (secondes)\")\n",
    "plt.title(\"Temps d'entrainement et de prédiction pour différentes valeurs de k\")\n",
    "\n",
    "#sklearn tsne"
   ]
  },
  {
   "cell_type": "code",
   "execution_count": null,
   "metadata": {},
   "outputs": [],
   "source": [
    "\n",
    "#plt.plot([x for x in range(2, 16)], scores_k[2:])\n",
    "plt.plot([x for x in range(2, 16)], scores_k2[2:])\n",
    "\n",
    "#plt.legend(['KFold', 'cross_val_score'], loc='upper right')\n",
    "plt.xlabel(\"k\")\n",
    "plt.ylabel(\"Precision\")\n",
    "plt.title(\"Score pour différentes valeurs de k\")\n",
    "\n",
    "#sklearn tsne"
   ]
  },
  {
   "cell_type": "markdown",
   "metadata": {
    "scrolled": false
   },
   "source": [
    "# Résultat\n",
    "\n",
    "Pour la suite, on prends la valeur k=5"
   ]
  },
  {
   "cell_type": "code",
   "execution_count": null,
   "metadata": {},
   "outputs": [],
   "source": [
    "from sklearn import neighbors\n",
    "\n",
    "k=5\n",
    "rates = [0.1, 0.2, 0.3, 0.4, 0.5, 0.6, 0.7, 0.8, 0.9]\n",
    "\n",
    "scores_rate = []\n",
    "for rate in rates:\n",
    "    xtrain, xtest, ytrain, ytest = model_selection.train_test_split(\n",
    "        data, target, train_size=rate\n",
    "    )\n",
    "\n",
    "    clf = neighbors.KNeighborsClassifier(k)\n",
    "    clf.fit(xtrain, ytrain)\n",
    "    \n",
    "    #print(str(len(ytrain)) + \" - - - \" + str(rate))\n",
    "    score = clf.score(xtest, ytest)\n",
    "    \n",
    "    #score = np.mean(cross_val_score(clf, xtest, ytest, cv=10))\n",
    "\n",
    "    print(\"Rate = \" + str(rate) + \" -> \" + str(score))\n",
    "    scores_rate.append(score)    "
   ]
  },
  {
   "cell_type": "code",
   "execution_count": null,
   "metadata": {},
   "outputs": [],
   "source": [
    "plt.plot([x for x in rates], scores_rate)\n",
    "\n",
    "plt.xlabel(\"Pourcentage consacré au train\")\n",
    "plt.ylabel(\"Precision\")\n",
    "plt.title(\"Score pour différents pourcentages consacrés au train(k=\" + str(k) +\")\")\n"
   ]
  },
  {
   "cell_type": "markdown",
   "metadata": {},
   "source": [
    "# Résultat\n",
    "Plus on alloue de données à l'entrainement, plus l'algorithme est efficace pour la classification."
   ]
  },
  {
   "cell_type": "code",
   "execution_count": null,
   "metadata": {},
   "outputs": [],
   "source": [
    "from sklearn import neighbors\n",
    "\n",
    "k=5\n",
    "rate=0.8\n",
    "\n",
    "# De 400 à 8000\n",
    "sizes = [200*i for i in range(1, 51)]\n",
    "\n",
    "scores_size = []\n",
    "for size in sizes:\n",
    "    \n",
    "    indexes2 = np.random.randint(70000, size=size)\n",
    "\n",
    "    data2 = mnist.data[indexes2]\n",
    "    target2 = mnist.target[indexes2]\n",
    "\n",
    "    xtrain, xtest, ytrain, ytest = model_selection.train_test_split(\n",
    "        data2, target2, train_size=rate\n",
    "    )\n",
    "\n",
    "    clf = neighbors.KNeighborsClassifier(k)\n",
    "    clf.fit(xtrain, ytrain)\n",
    "    \n",
    "    score = clf.score(xtest, ytest)\n",
    "\n",
    "    print(\"Size = \" + str(size) + \" -> \" + str(score))\n",
    "    scores_size.append(score)"
   ]
  },
  {
   "cell_type": "code",
   "execution_count": null,
   "metadata": {},
   "outputs": [],
   "source": [
    "plt.plot([x for x in sizes], scores_size)\n",
    "\n",
    "plt.xlabel(\"Taille de l'échantillon\")\n",
    "plt.ylabel(\"Precision\")\n",
    "plt.title(\"Score pour différentes tailles d'échantillon\")\n"
   ]
  },
  {
   "cell_type": "markdown",
   "metadata": {},
   "source": [
    "# Résultat\n",
    "Plus la taille de l'échantillon est importante, plus la précision de l'algorithme est grande."
   ]
  },
  {
   "cell_type": "code",
   "execution_count": null,
   "metadata": {
    "slideshow": {
     "slide_type": "subslide"
    }
   },
   "outputs": [],
   "source": [
    "from sklearn import neighbors\n",
    "\n",
    "k=5\n",
    "rate = 0.8\n",
    "ps = [1, 2, 3, 4, 5, 6, 7, 8, 9, 10, 11, 12, 13, 14, 15, 16, 17, 18, 19]\n",
    "scores_p = []\n",
    "\n",
    "for p in ps:\n",
    "    xtrain, xtest, ytrain, ytest = model_selection.train_test_split(\n",
    "        data, target, train_size=rate\n",
    "    )\n",
    "\n",
    "    clf = neighbors.KNeighborsClassifier(k, p=p, n_jobs=-1)\n",
    "    clf.fit(xtrain, ytrain)\n",
    "    \n",
    "    score = clf.score(xtest, ytest)\n",
    "\n",
    "    print(\"P = \" + str(p) + \" -> \" + str(score))\n",
    "    scores_p.append(score)    "
   ]
  },
  {
   "cell_type": "code",
   "execution_count": null,
   "metadata": {},
   "outputs": [],
   "source": [
    "plt.plot([x for x in ps], scores_p)\n",
    "\n",
    "plt.xlabel(\"Valeurs de P\")\n",
    "plt.ylabel(\"Precision\")\n",
    "plt.title(\"Score pour différentes valeurs de p(k=\" + str(k) +\")\")\n"
   ]
  },
  {
   "cell_type": "markdown",
   "metadata": {},
   "source": [
    "# Résultat\n",
    "\n",
    "Augmentation de la précision en augmentant la norme utilisée"
   ]
  },
  {
   "cell_type": "code",
   "execution_count": null,
   "metadata": {},
   "outputs": [],
   "source": [
    "%%time\n",
    "\n",
    "from sklearn import neighbors\n",
    "import time\n",
    "\n",
    "\n",
    "k=5\n",
    "rate = 0.8\n",
    "p = 7\n",
    "\n",
    "xtrain, xtest, ytrain, ytest = model_selection.train_test_split(\n",
    "    data, target, train_size=rate\n",
    ")\n",
    "\n",
    "# Mesure avec n_jobs = 1\n",
    "start_time = time.time()\n",
    "start_process_time = time.process_time()\n",
    "clf = neighbors.KNeighborsClassifier(k, p=p, n_jobs = 1)\n",
    "clf.fit(xtrain, ytrain)\n",
    "end_time = time.time()\n",
    "end_process_time = time.process_time()\n",
    "\n",
    "score = clf.score(xtest, ytest)\n",
    "\n",
    "\n",
    "print(\"n_jobs = 1 -> \" + str(score) + \" time : \" + str(end_time - start_time))\n",
    "print(\"n_jobs = 1 -> \" + str(score) + \" process time : \" + str(end_process_time - start_process_time))\n",
    "\n",
    "\n",
    "\n",
    "\n",
    "# Mesure avec n_jobs = -1\n",
    "start_time = time.time()\n",
    "start_process_time = time.process_time()\n",
    "\n",
    "clf = neighbors.KNeighborsClassifier(k, p=p, n_jobs = -1)\n",
    "clf.fit(xtrain, ytrain)\n",
    "end_time = time.time()\n",
    "end_process_time = time.process_time()\n",
    "\n",
    "score = clf.score(xtest, ytest)\n",
    "\n",
    "\n",
    "\n",
    "print(\"n_jobs = -1 -> \" + str(score) + \" time : \" + str(end_time - start_time))\n",
    "print(\"n_jobs = -1 -> \" + str(score) + \" process time : \" + str(end_process_time - start_process_time))\n",
    "\n"
   ]
  }
 ],
 "metadata": {
  "kernelspec": {
   "display_name": "Python 3",
   "language": "python",
   "name": "python3"
  },
  "language_info": {
   "codemirror_mode": {
    "name": "ipython",
    "version": 3
   },
   "file_extension": ".py",
   "mimetype": "text/x-python",
   "name": "python",
   "nbconvert_exporter": "python",
   "pygments_lexer": "ipython3",
   "version": "3.7.4"
  },
  "latex_envs": {
   "LaTeX_envs_menu_present": true,
   "autoclose": false,
   "autocomplete": true,
   "bibliofile": "biblio.bib",
   "cite_by": "apalike",
   "current_citInitial": 1,
   "eqLabelWithNumbers": true,
   "eqNumInitial": 1,
   "hotkeys": {
    "equation": "Ctrl-E",
    "itemize": "Ctrl-I"
   },
   "labels_anchors": false,
   "latex_user_defs": false,
   "report_style_numbering": false,
   "user_envs_cfg": false
  }
 },
 "nbformat": 4,
 "nbformat_minor": 2
}
