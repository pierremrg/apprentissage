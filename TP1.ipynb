{
 "cells": [
  {
   "cell_type": "code",
   "execution_count": 1,
   "metadata": {},
   "outputs": [],
   "source": [
    "from sklearn.datasets import fetch_openml\n",
    "\n",
    "mnist = fetch_openml('mnist_784')"
   ]
  },
  {
   "cell_type": "code",
   "execution_count": 2,
   "metadata": {},
   "outputs": [],
   "source": [
    "import numpy as np\n",
    "from sklearn import model_selection\n",
    "\n",
    "indexes = np.random.randint(70000, size=7000)\n",
    "\n",
    "data = mnist.data[indexes]\n",
    "#print(data.shape)\n",
    "target = mnist.target[indexes]\n",
    "\n",
    "xtrain, xtest, ytrain, ytest = model_selection.train_test_split(\n",
    "    data, target, train_size=0.8\n",
    ")\n"
   ]
  },
  {
   "cell_type": "code",
   "execution_count": 3,
   "metadata": {},
   "outputs": [],
   "source": [
    "from sklearn import neighbors\n",
    "\n",
    "k = 10\n",
    "\n",
    "clf = neighbors.KNeighborsClassifier(k)\n",
    "clf.fit(xtrain, ytrain)\n",
    "\n",
    "probas = clf.predict_proba(xtest)"
   ]
  },
  {
   "cell_type": "code",
   "execution_count": 4,
   "metadata": {},
   "outputs": [
    {
     "data": {
      "text/plain": [
       "<Figure size 640x480 with 1 Axes>"
      ]
     },
     "metadata": {},
     "output_type": "display_data"
    },
    {
     "name": "stdout",
     "output_type": "stream",
     "text": [
      "[0. 0. 0. 0. 0. 0. 0. 1. 0. 0.]\n"
     ]
    }
   ],
   "source": [
    "from sklearn import datasets\n",
    "import matplotlib.pyplot as plt\n",
    "\n",
    "itest = 4\n",
    "\n",
    "images = data.reshape((-1, 28, 28))\n",
    "plt.imshow(images[itest],cmap=plt.cm.gray_r,interpolation=\"nearest\")\n",
    "plt.show()\n",
    "\n",
    "print(probas[itest])"
   ]
  },
  {
   "cell_type": "code",
   "execution_count": 5,
   "metadata": {},
   "outputs": [],
   "source": [
    "#clf.score(xtest, ytest)\n",
    "found_classes = clf.predict(xtest)"
   ]
  },
  {
   "cell_type": "code",
   "execution_count": 6,
   "metadata": {},
   "outputs": [
    {
     "name": "stdout",
     "output_type": "stream",
     "text": [
      "Classe : 8 / Attendu 8 OK\n",
      "Classe : 2 / Attendu 2 OK\n",
      "Classe : 2 / Attendu 2 OK\n",
      "Classe : 7 / Attendu 7 OK\n",
      "Classe : 6 / Attendu 6 OK\n",
      "Classe : 2 / Attendu 2 OK\n",
      "Classe : 8 / Attendu 3\n",
      "Classe : 2 / Attendu 2 OK\n",
      "Classe : 0 / Attendu 0 OK\n",
      "Classe : 6 / Attendu 6 OK\n",
      "Classe : 0 / Attendu 0 OK\n",
      "Classe : 0 / Attendu 0 OK\n",
      "Classe : 2 / Attendu 2 OK\n",
      "Classe : 2 / Attendu 2 OK\n",
      "Classe : 5 / Attendu 5 OK\n",
      "Classe : 6 / Attendu 6 OK\n",
      "Classe : 8 / Attendu 8 OK\n",
      "Classe : 4 / Attendu 4 OK\n",
      "Classe : 0 / Attendu 0 OK\n"
     ]
    }
   ],
   "source": [
    "for itest in range(1,20):\n",
    "    #itest = 4\n",
    "    \n",
    "    res =  \" OK\" if ytest[itest] == found_classes[itest] else \"\"\n",
    "\n",
    "    print(\"Classe : \" + ytest[itest] + \" / Attendu \" + found_classes[itest] + res)"
   ]
  },
  {
   "cell_type": "code",
   "execution_count": 7,
   "metadata": {},
   "outputs": [
    {
     "data": {
      "text/plain": [
       "'\\nfrom sklearn.model_selection import KFold\\n\\nscores_k = [0 for i in range(0,16)]\\n\\nnb_splits = 10\\n\\n# k = Nombre de voisins à considérer\\nfor k in range(2,16):\\n    clf = neighbors.KNeighborsClassifier(k)    \\n    kf = KFold(n_splits=nb_splits, shuffle=True)\\n\\n    \\n\\n    for train_indexes, test_indexes in kf.split(data):\\n        # Calcul des xtest/ytest/xtrain/ytrain\\n        xtrain = data[train_indexes]\\n        xtest = data[test_indexes]\\n        ytrain = target[train_indexes]\\n        ytest = target[test_indexes]\\n    \\n        clf.fit(xtrain, ytrain)\\n        \\n        print(\".\", end = \\'\\')\\n        scores_k[k] += clf.score(xtest, ytest) / nb_splits\\n        \\n    \\n    print(scores_k[k])\\n'"
      ]
     },
     "execution_count": 7,
     "metadata": {},
     "output_type": "execute_result"
    }
   ],
   "source": [
    "# BAD\n",
    "\"\"\"\n",
    "from sklearn.model_selection import KFold\n",
    "\n",
    "scores_k = [0 for i in range(0,16)]\n",
    "\n",
    "nb_splits = 10\n",
    "\n",
    "# k = Nombre de voisins à considérer\n",
    "for k in range(2,16):\n",
    "    clf = neighbors.KNeighborsClassifier(k)    \n",
    "    kf = KFold(n_splits=nb_splits, shuffle=True)\n",
    "\n",
    "    \n",
    "\n",
    "    for train_indexes, test_indexes in kf.split(data):\n",
    "        # Calcul des xtest/ytest/xtrain/ytrain\n",
    "        xtrain = data[train_indexes]\n",
    "        xtest = data[test_indexes]\n",
    "        ytrain = target[train_indexes]\n",
    "        ytest = target[test_indexes]\n",
    "    \n",
    "        clf.fit(xtrain, ytrain)\n",
    "        \n",
    "        print(\".\", end = '')\n",
    "        scores_k[k] += clf.score(xtest, ytest) / nb_splits\n",
    "        \n",
    "    \n",
    "    print(scores_k[k])\n",
    "\"\"\""
   ]
  },
  {
   "cell_type": "code",
   "execution_count": 8,
   "metadata": {},
   "outputs": [
    {
     "name": "stdout",
     "output_type": "stream",
     "text": [
      "K = 2 -> 0.9196369790662263\n",
      "K = 3 -> 0.9333713789092078\n",
      "K = 4 -> 0.9299834395436747\n",
      "K = 5 -> 0.9317739970399692\n",
      "K = 6 -> 0.9276691186763572\n",
      "K = 7 -> 0.9287298925935887\n",
      "K = 8 -> 0.9235574874648483\n",
      "K = 9 -> 0.9242803500686341\n",
      "K = 10 -> 0.924640705824294\n",
      "K = 11 -> 0.9235609369424372\n",
      "K = 12 -> 0.9214208546752829\n",
      "K = 13 -> 0.9205280088662274\n",
      "K = 14 -> 0.9201637992168509\n",
      "K = 15 -> 0.917844825212863\n"
     ]
    }
   ],
   "source": [
    "from sklearn.model_selection import cross_val_score\n",
    "import numpy as np\n",
    "import time\n",
    "\n",
    "scores_k2 = [0 for i in range(0,16)]\n",
    "times_train_k = [0 for i in range(0,16)]\n",
    "times_score_k = [0 for i in range(0,16)]\n",
    "\n",
    "\n",
    "nb_splits = 10\n",
    "\n",
    "# k = Nombre de voisins à considérer\n",
    "for k in range(2,16):\n",
    "    clf = neighbors.KNeighborsClassifier(k, n_jobs=-1)\n",
    "    start_time = time.process_time()\n",
    "    clf.fit(xtrain, ytrain)\n",
    "    times_train_k[k] = (time.process_time() - start_time)\n",
    "    \n",
    "    start_time = time.process_time()\n",
    "    score = np.mean(cross_val_score(clf, xtrain, ytrain, cv=10))\n",
    "    times_score_k[k] = (time.process_time() - start_time)\n",
    "    \n",
    "    print(\"K = \" + str(k) + \" -> \" + str(score))\n",
    "    scores_k2[k] = score\n"
   ]
  },
  {
   "cell_type": "code",
   "execution_count": 9,
   "metadata": {},
   "outputs": [
    {
     "name": "stdout",
     "output_type": "stream",
     "text": [
      "[0, 0, 1.3982168199999947, 1.338579068999998, 1.3193898159999975, 1.3172053449999979, 1.321424750999995, 1.3217112069999999, 1.331511300999999, 1.3255598380000038, 1.3414449460000029, 1.3767603400000041, 1.3928462109999984, 1.4035195899999948, 1.4129013700000002, 1.4424170010000026]\n"
     ]
    },
    {
     "data": {
      "text/plain": [
       "Text(0.5, 1.0, \"Temps d'entrainement et de prédiction pour différentes valeurs de k\")"
      ]
     },
     "execution_count": 9,
     "metadata": {},
     "output_type": "execute_result"
    },
    {
     "data": {
      "image/png": "[encoded data removed]",
      "text/plain": [
       "<Figure size 432x288 with 1 Axes>"
      ]
     },
     "metadata": {
      "needs_background": "light"
     },
     "output_type": "display_data"
    }
   ],
   "source": [
    "\n",
    "plt.plot([x for x in range(0, 16)], times_train_k)\n",
    "plt.plot([x for x in range(0, 16)], times_score_k)\n",
    "\n",
    "print(times_score_k)\n",
    "\n",
    "plt.legend(['Temps d\\'entrainement', 'Temps de prédiction'], loc='best')\n",
    "plt.xlabel(\"k\")\n",
    "plt.ylabel(\"Temps (secondes)\")\n",
    "plt.title(\"Temps d'entrainement et de prédiction pour différentes valeurs de k\")\n",
    "\n",
    "#sklearn tsne"
   ]
  },
  {
   "cell_type": "code",
   "execution_count": 10,
   "metadata": {},
   "outputs": [
    {
     "data": {
      "text/plain": [
       "Text(0.5, 1.0, 'Score pour différentes valeurs de k')"
      ]
     },
     "execution_count": 10,
     "metadata": {},
     "output_type": "execute_result"
    },
    {
     "data": {
      "image/png": "[encoded data removed]",
      "text/plain": [
       "<Figure size 432x288 with 1 Axes>"
      ]
     },
     "metadata": {
      "needs_background": "light"
     },
     "output_type": "display_data"
    }
   ],
   "source": [
    "\n",
    "#plt.plot([x for x in range(2, 16)], scores_k[2:])\n",
    "plt.plot([x for x in range(2, 16)], scores_k2[2:])\n",
    "\n",
    "#plt.legend(['KFold', 'cross_val_score'], loc='upper right')\n",
    "plt.xlabel(\"k\")\n",
    "plt.ylabel(\"Precision\")\n",
    "plt.title(\"Score pour différentes valeurs de k\")\n",
    "\n",
    "#sklearn tsne"
   ]
  },
  {
   "cell_type": "markdown",
   "metadata": {
    "scrolled": false
   },
   "source": [
    "# Résultat\n",
    "\n",
    "Pour la suite, on prends la valeur k=5"
   ]
  },
  {
   "cell_type": "code",
   "execution_count": 11,
   "metadata": {},
   "outputs": [
    {
     "name": "stdout",
     "output_type": "stream",
     "text": [
      "Rate = 0.1 -> 0.8584126984126984\n",
      "Rate = 0.2 -> 0.8907142857142857\n",
      "Rate = 0.3 -> 0.9108163265306123\n",
      "Rate = 0.4 -> 0.9228571428571428\n",
      "Rate = 0.5 -> 0.93\n",
      "Rate = 0.6 -> 0.9371428571428572\n",
      "Rate = 0.7 -> 0.9295238095238095\n",
      "Rate = 0.8 -> 0.9457142857142857\n",
      "Rate = 0.9 -> 0.9428571428571428\n"
     ]
    }
   ],
   "source": [
    "from sklearn import neighbors\n",
    "\n",
    "k=5\n",
    "rates = [0.1, 0.2, 0.3, 0.4, 0.5, 0.6, 0.7, 0.8, 0.9]\n",
    "\n",
    "scores_rate = []\n",
    "for rate in rates:\n",
    "    xtrain, xtest, ytrain, ytest = model_selection.train_test_split(\n",
    "        data, target, train_size=rate\n",
    "    )\n",
    "\n",
    "    clf = neighbors.KNeighborsClassifier(k)\n",
    "    clf.fit(xtrain, ytrain)\n",
    "    \n",
    "    #print(str(len(ytrain)) + \" - - - \" + str(rate))\n",
    "    score = clf.score(xtest, ytest)\n",
    "    \n",
    "    #score = np.mean(cross_val_score(clf, xtest, ytest, cv=10))\n",
    "\n",
    "    print(\"Rate = \" + str(rate) + \" -> \" + str(score))\n",
    "    scores_rate.append(score)    "
   ]
  },
  {
   "cell_type": "code",
   "execution_count": 12,
   "metadata": {},
   "outputs": [
    {
     "data": {
      "text/plain": [
       "Text(0.5, 1.0, 'Score pour différents pourcentages consacrés au train(k=5)')"
      ]
     },
     "execution_count": 12,
     "metadata": {},
     "output_type": "execute_result"
    },
    {
     "data": {
      "image/png": "[encoded data removed]",
      "text/plain": [
       "<Figure size 432x288 with 1 Axes>"
      ]
     },
     "metadata": {
      "needs_background": "light"
     },
     "output_type": "display_data"
    }
   ],
   "source": [
    "plt.plot([x for x in rates], scores_rate)\n",
    "\n",
    "plt.xlabel(\"Pourcentage consacré au train\")\n",
    "plt.ylabel(\"Precision\")\n",
    "plt.title(\"Score pour différents pourcentages consacrés au train(k=\" + str(k) +\")\")\n"
   ]
  },
  {
   "cell_type": "markdown",
   "metadata": {},
   "source": [
    "# Résultat\n",
    "Plus on alloue de données à l'entrainement, plus l'algorithme est efficace pour la classification."
   ]
  },
  {
   "cell_type": "code",
   "execution_count": 13,
   "metadata": {},
   "outputs": [
    {
     "name": "stdout",
     "output_type": "stream",
     "text": [
      "Size = 200 -> 0.775\n",
      "Size = 400 -> 0.7375\n",
      "Size = 600 -> 0.7833333333333333\n",
      "Size = 800 -> 0.88125\n",
      "Size = 1000 -> 0.81\n",
      "Size = 1200 -> 0.8875\n",
      "Size = 1400 -> 0.9071428571428571\n",
      "Size = 1600 -> 0.875\n",
      "Size = 1800 -> 0.9\n",
      "Size = 2000 -> 0.9075\n",
      "Size = 2200 -> 0.9022727272727272\n",
      "Size = 2400 -> 0.9166666666666666\n",
      "Size = 2600 -> 0.9134615384615384\n",
      "Size = 2800 -> 0.9303571428571429\n",
      "Size = 3000 -> 0.8983333333333333\n",
      "Size = 3200 -> 0.915625\n",
      "Size = 3400 -> 0.9176470588235294\n",
      "Size = 3600 -> 0.9236111111111112\n",
      "Size = 3800 -> 0.9157894736842105\n",
      "Size = 4000 -> 0.9175\n",
      "Size = 4200 -> 0.9285714285714286\n",
      "Size = 4400 -> 0.9238636363636363\n",
      "Size = 4600 -> 0.9347826086956522\n",
      "Size = 4800 -> 0.9385416666666667\n",
      "Size = 5000 -> 0.924\n",
      "Size = 5200 -> 0.9413461538461538\n",
      "Size = 5400 -> 0.9296296296296296\n",
      "Size = 5600 -> 0.9339285714285714\n",
      "Size = 5800 -> 0.9353448275862069\n",
      "Size = 6000 -> 0.9333333333333333\n",
      "Size = 6200 -> 0.9185483870967742\n",
      "Size = 6400 -> 0.9421875\n",
      "Size = 6600 -> 0.9257575757575758\n",
      "Size = 6800 -> 0.9227941176470589\n",
      "Size = 7000 -> 0.9378571428571428\n",
      "Size = 7200 -> 0.9340277777777778\n",
      "Size = 7400 -> 0.9391891891891891\n",
      "Size = 7600 -> 0.9375\n",
      "Size = 7800 -> 0.9506410256410256\n",
      "Size = 8000 -> 0.93625\n",
      "Size = 8200 -> 0.9298780487804879\n",
      "Size = 8400 -> 0.9398809523809524\n",
      "Size = 8600 -> 0.9325581395348838\n",
      "Size = 8800 -> 0.9335227272727272\n",
      "Size = 9000 -> 0.9483333333333334\n",
      "Size = 9200 -> 0.9434782608695652\n",
      "Size = 9400 -> 0.9377659574468085\n",
      "Size = 9600 -> 0.9390625\n",
      "Size = 9800 -> 0.951530612244898\n",
      "Size = 10000 -> 0.9475\n"
     ]
    }
   ],
   "source": [
    "from sklearn import neighbors\n",
    "\n",
    "k=5\n",
    "rate=0.8\n",
    "\n",
    "# De 400 à 8000\n",
    "sizes = [200*i for i in range(1, 51)]\n",
    "\n",
    "scores_size = []\n",
    "for size in sizes:\n",
    "    \n",
    "    indexes2 = np.random.randint(70000, size=size)\n",
    "\n",
    "    data2 = mnist.data[indexes2]\n",
    "    target2 = mnist.target[indexes2]\n",
    "\n",
    "    xtrain, xtest, ytrain, ytest = model_selection.train_test_split(\n",
    "        data2, target2, train_size=rate\n",
    "    )\n",
    "\n",
    "    clf = neighbors.KNeighborsClassifier(k)\n",
    "    clf.fit(xtrain, ytrain)\n",
    "    \n",
    "    score = clf.score(xtest, ytest)\n",
    "\n",
    "    print(\"Size = \" + str(size) + \" -> \" + str(score))\n",
    "    scores_size.append(score)"
   ]
  },
  {
   "cell_type": "code",
   "execution_count": 14,
   "metadata": {},
   "outputs": [
    {
     "data": {
      "text/plain": [
       "Text(0.5, 1.0, \"Score pour différentes tailles d'échantillon\")"
      ]
     },
     "execution_count": 14,
     "metadata": {},
     "output_type": "execute_result"
    },
    {
     "data": {
      "image/png": "[encoded data removed]",
      "text/plain": [
       "<Figure size 432x288 with 1 Axes>"
      ]
     },
     "metadata": {
      "needs_background": "light"
     },
     "output_type": "display_data"
    }
   ],
   "source": [
    "plt.plot([x for x in sizes], scores_size)\n",
    "\n",
    "plt.xlabel(\"Taille de l'échantillon\")\n",
    "plt.ylabel(\"Precision\")\n",
    "plt.title(\"Score pour différentes tailles d'échantillon\")\n"
   ]
  },
  {
   "cell_type": "markdown",
   "metadata": {},
   "source": [
    "# Résultat\n",
    "Plus la taille de l'échantillon est importante, plus la précision de l'algorithme est grande."
   ]
  },
  {
   "cell_type": "code",
   "execution_count": 15,
   "metadata": {
    "slideshow": {
     "slide_type": "subslide"
    }
   },
   "outputs": [
    {
     "name": "stdout",
     "output_type": "stream",
     "text": [
      "P = 1 -> 0.9178571428571428\n",
      "P = 2 -> 0.9407142857142857\n",
      "P = 3 -> 0.9371428571428572\n",
      "P = 4 -> 0.9492857142857143\n",
      "P = 5 -> 0.9514285714285714\n",
      "P = 6 -> 0.9371428571428572\n",
      "P = 7 -> 0.9435714285714286\n",
      "P = 8 -> 0.9407142857142857\n",
      "P = 9 -> 0.9392857142857143\n",
      "P = 10 -> 0.9421428571428572\n",
      "P = 11 -> 0.9464285714285714\n",
      "P = 12 -> 0.9471428571428572\n",
      "P = 13 -> 0.9507142857142857\n",
      "P = 14 -> 0.95\n",
      "P = 15 -> 0.945\n",
      "P = 16 -> 0.9464285714285714\n",
      "P = 17 -> 0.9378571428571428\n",
      "P = 18 -> 0.9421428571428572\n",
      "P = 19 -> 0.9571428571428572\n"
     ]
    }
   ],
   "source": [
    "from sklearn import neighbors\n",
    "\n",
    "k=5\n",
    "rate = 0.8\n",
    "ps = [1, 2, 3, 4, 5, 6, 7, 8, 9, 10, 11, 12, 13, 14, 15, 16, 17, 18, 19]\n",
    "scores_p = []\n",
    "\n",
    "for p in ps:\n",
    "    xtrain, xtest, ytrain, ytest = model_selection.train_test_split(\n",
    "        data, target, train_size=rate\n",
    "    )\n",
    "\n",
    "    clf = neighbors.KNeighborsClassifier(k, p=p, n_jobs=-1)\n",
    "    clf.fit(xtrain, ytrain)\n",
    "    \n",
    "    score = clf.score(xtest, ytest)\n",
    "\n",
    "    print(\"P = \" + str(p) + \" -> \" + str(score))\n",
    "    scores_p.append(score)    "
   ]
  },
  {
   "cell_type": "code",
   "execution_count": 16,
   "metadata": {},
   "outputs": [
    {
     "data": {
      "text/plain": [
       "Text(0.5, 1.0, 'Score pour différentes valeurs de p(k=5)')"
      ]
     },
     "execution_count": 16,
     "metadata": {},
     "output_type": "execute_result"
    },
    {
     "data": {
      "image/png": "[encoded data removed]",
      "text/plain": [
       "<Figure size 432x288 with 1 Axes>"
      ]
     },
     "metadata": {
      "needs_background": "light"
     },
     "output_type": "display_data"
    }
   ],
   "source": [
    "plt.plot([x for x in ps], scores_p)\n",
    "\n",
    "plt.xlabel(\"Valeurs de P\")\n",
    "plt.ylabel(\"Precision\")\n",
    "plt.title(\"Score pour différentes valeurs de p(k=\" + str(k) +\")\")\n"
   ]
  },
  {
   "cell_type": "markdown",
   "metadata": {},
   "source": [
    "# Résultat\n",
    "\n",
    "Augmentation de la précision en augmentant la norme utilisée"
   ]
  },
  {
   "cell_type": "code",
   "execution_count": 17,
   "metadata": {},
   "outputs": [
    {
     "name": "stdout",
     "output_type": "stream",
     "text": [
      "n_jobs = 1 -> 0.9507142857142857 time : 0.13569307327270508\n",
      "n_jobs = 1 -> 0.9507142857142857 process time : 0.13664105300085794\n",
      "n_jobs = -1 -> 0.9507142857142857 time : 0.11172866821289062\n",
      "n_jobs = -1 -> 0.9507142857142857 process time : 0.1119677850001608\n",
      "CPU times: user 5min 39s, sys: 128 ms, total: 5min 39s\n",
      "Wall time: 3min 15s\n"
     ]
    }
   ],
   "source": [
    "%%time\n",
    "\n",
    "from sklearn import neighbors\n",
    "import time\n",
    "\n",
    "\n",
    "k=5\n",
    "rate = 0.8\n",
    "p = 7\n",
    "\n",
    "xtrain, xtest, ytrain, ytest = model_selection.train_test_split(\n",
    "    data, target, train_size=rate\n",
    ")\n",
    "\n",
    "# Mesure avec n_jobs = 1\n",
    "start_time = time.time()\n",
    "start_process_time = time.process_time()\n",
    "clf = neighbors.KNeighborsClassifier(k, p=p, n_jobs = 1)\n",
    "clf.fit(xtrain, ytrain)\n",
    "end_time = time.time()\n",
    "end_process_time = time.process_time()\n",
    "\n",
    "score = clf.score(xtest, ytest)\n",
    "\n",
    "\n",
    "print(\"n_jobs = 1 -> \" + str(score) + \" time : \" + str(end_time - start_time))\n",
    "print(\"n_jobs = 1 -> \" + str(score) + \" process time : \" + str(end_process_time - start_process_time))\n",
    "\n",
    "\n",
    "\n",
    "\n",
    "# Mesure avec n_jobs = -1\n",
    "start_time = time.time()\n",
    "start_process_time = time.process_time()\n",
    "\n",
    "clf = neighbors.KNeighborsClassifier(k, p=p, n_jobs = -1)\n",
    "clf.fit(xtrain, ytrain)\n",
    "end_time = time.time()\n",
    "end_process_time = time.process_time()\n",
    "\n",
    "score = clf.score(xtest, ytest)\n",
    "\n",
    "\n",
    "\n",
    "print(\"n_jobs = -1 -> \" + str(score) + \" time : \" + str(end_time - start_time))\n",
    "print(\"n_jobs = -1 -> \" + str(score) + \" process time : \" + str(end_process_time - start_process_time))\n",
    "\n"
   ]
  }
 ],
 "metadata": {
  "kernelspec": {
   "display_name": "Python 3",
   "language": "python",
   "name": "python3"
  },
  "language_info": {
   "codemirror_mode": {
    "name": "ipython",
    "version": 3
   },
   "file_extension": ".py",
   "mimetype": "text/x-python",
   "name": "python",
   "nbconvert_exporter": "python",
   "pygments_lexer": "ipython3",
   "version": "3.7.3"
  },
  "latex_envs": {
   "LaTeX_envs_menu_present": true,
   "autoclose": false,
   "autocomplete": true,
   "bibliofile": "biblio.bib",
   "cite_by": "apalike",
   "current_citInitial": 1,
   "eqLabelWithNumbers": true,
   "eqNumInitial": 1,
   "hotkeys": {
    "equation": "Ctrl-E",
    "itemize": "Ctrl-I"
   },
   "labels_anchors": false,
   "latex_user_defs": false,
   "report_style_numbering": false,
   "user_envs_cfg": false
  }
 },
 "nbformat": 4,
 "nbformat_minor": 2
}
